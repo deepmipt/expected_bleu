{
 "cells": [
  {
   "cell_type": "code",
   "execution_count": 1,
   "metadata": {},
   "outputs": [],
   "source": [
    "from modules import expectedMultiBleu\n",
    "import numpy as np\n",
    "import torch\n",
    "from torch.cuda import LongTensor, FloatTensor\n",
    "from torch.autograd import Variable\n",
    "from torch.nn import Module, functional as F\n",
    "from modules.expectedBLEU import bleu as ebleu\n",
    "from modules.expectedMultiBleu import bleu, calculate_overlap\n",
    "from modules.matrixBLEU import mBLEU\n",
    "from matplotlib import pyplot as plt\n",
    "from modules.utils import CUDA_wrapper\n",
    "import time\n",
    "plt.style.use('ggplot')\n",
    "%matplotlib inline"
   ]
  },
  {
   "cell_type": "code",
   "execution_count": 2,
   "metadata": {},
   "outputs": [],
   "source": [
    "def generate_batch_references(references_lengths, vocab_size):\n",
    "    def _gen_padded_ref(l):\n",
    "        ref = np.random.choice(vocab_size, size=l, replace=True)\n",
    "        padding = np.array([0] * (max_len - l), dtype=int)\n",
    "        return np.concatenate((ref, padding)).tolist()\n",
    "    max_len = np.max(references_lengths)\n",
    "    res = [_gen_padded_ref(l)\\\n",
    "           for l in references_lengths]\n",
    "    # res = np.stack(res)\n",
    "    return res\n",
    "\n",
    "def _all_idx(idx, axis):\n",
    "    print(tuple(map(slice, idx.shape)))\n",
    "    grid = np.ogrid[tuple(map(slice, idx.shape))]\n",
    "    grid.insert(axis, idx)\n",
    "    return tuple(grid)\n",
    "\n",
    "def onehot_initialization(a, vocab_size):\n",
    "    ncols = vocab_size\n",
    "    out = np.zeros(a.shape + (ncols,), dtype=int)\n",
    "    out[_all_idx(a, axis=2)] = 1\n",
    "    return out\n",
    "\n",
    "class MySoftmax(Module):\n",
    "\n",
    "    def forward(self, input_):\n",
    "        batch_size = input_.size()[0]\n",
    "        output_ = torch.stack([F.softmax(input_[i]) for i in range(batch_size)], 0)\n",
    "        return output_"
   ]
  },
  {
   "cell_type": "code",
   "execution_count": 3,
   "metadata": {},
   "outputs": [],
   "source": [
    "sm = MySoftmax()\n",
    "np.random.seed(3)\n",
    "torch.manual_seed(2)\n",
    "low_len = 8\n",
    "hight_len = 10\n",
    "batch_size = 200\n",
    "translation_len = 10\n",
    "vocab_size = 20000\n",
    "references_lengths = np.random.randint(low=low_len,\\\n",
    "                                high=hight_len + 1, size=batch_size)\n",
    "t = Variable(CUDA_wrapper(\\\n",
    "            torch.randn((batch_size, translation_len, vocab_size))),\\\n",
    "    requires_grad=True)\n",
    "references_batch = generate_batch_references(references_lengths, vocab_size)"
   ]
  },
  {
   "cell_type": "code",
   "execution_count": 4,
   "metadata": {},
   "outputs": [
    {
     "name": "stderr",
     "output_type": "stream",
     "text": [
      "Variable containing:\n",
      " 8.7076e-01\n",
      " 3.4756e-05\n",
      " 1.3246e-09\n",
      " 4.7661e-14\n",
      "[torch.cuda.FloatTensor of size 4 (GPU 0)]\n",
      "\n"
     ]
    },
    {
     "name": "stdout",
     "output_type": "stream",
     "text": [
      "-0.0006936021381989121\n"
     ]
    },
    {
     "name": "stderr",
     "output_type": "stream",
     "text": [
      "Variable containing:\n",
      " 8.7380e-01\n",
      " 3.5001e-05\n",
      " 1.3384e-09\n",
      " 4.8309e-14\n",
      "[torch.cuda.FloatTensor of size 4 (GPU 0)]\n",
      "\n"
     ]
    },
    {
     "name": "stdout",
     "output_type": "stream",
     "text": [
      "-0.0006938846199773252\n"
     ]
    },
    {
     "name": "stderr",
     "output_type": "stream",
     "text": [
      "Variable containing:\n",
      " 8.7994e-01\n",
      " 3.5497e-05\n",
      " 1.3664e-09\n",
      " 4.9637e-14\n",
      "[torch.cuda.FloatTensor of size 4 (GPU 0)]\n",
      "\n"
     ]
    },
    {
     "name": "stdout",
     "output_type": "stream",
     "text": [
      "-0.0006944526685401797\n"
     ]
    },
    {
     "name": "stderr",
     "output_type": "stream",
     "text": [
      "Variable containing:\n",
      " 8.8949e-01\n",
      " 3.6276e-05\n",
      " 1.4108e-09\n",
      " 5.1760e-14\n",
      "[torch.cuda.FloatTensor of size 4 (GPU 0)]\n",
      "\n"
     ]
    },
    {
     "name": "stdout",
     "output_type": "stream",
     "text": [
      "-0.0006953327101655304\n"
     ]
    },
    {
     "name": "stderr",
     "output_type": "stream",
     "text": [
      "Variable containing:\n",
      " 9.0268e-01\n",
      " 3.7364e-05\n",
      " 1.4737e-09\n",
      " 5.4806e-14\n",
      "[torch.cuda.FloatTensor of size 4 (GPU 0)]\n",
      "\n"
     ]
    },
    {
     "name": "stdout",
     "output_type": "stream",
     "text": [
      "-0.0006965433130972087\n"
     ]
    },
    {
     "name": "stderr",
     "output_type": "stream",
     "text": [
      "Variable containing:\n",
      " 9.1973e-01\n",
      " 3.8794e-05\n",
      " 1.5578e-09\n",
      " 5.8944e-14\n",
      "[torch.cuda.FloatTensor of size 4 (GPU 0)]\n",
      "\n"
     ]
    },
    {
     "name": "stdout",
     "output_type": "stream",
     "text": [
      "-0.0006980980979278684\n"
     ]
    },
    {
     "name": "stderr",
     "output_type": "stream",
     "text": [
      "Variable containing:\n",
      " 9.4085e-01\n",
      " 4.0604e-05\n",
      " 1.6662e-09\n",
      " 6.4395e-14\n",
      "[torch.cuda.FloatTensor of size 4 (GPU 0)]\n",
      "\n"
     ]
    },
    {
     "name": "stdout",
     "output_type": "stream",
     "text": [
      "-0.0007000110927037895\n"
     ]
    },
    {
     "name": "stderr",
     "output_type": "stream",
     "text": [
      "Variable containing:\n",
      " 9.6631e-01\n",
      " 4.2838e-05\n",
      " 1.8035e-09\n",
      " 7.1457e-14\n",
      "[torch.cuda.FloatTensor of size 4 (GPU 0)]\n",
      "\n"
     ]
    },
    {
     "name": "stdout",
     "output_type": "stream",
     "text": [
      "-0.0007022956269793212\n"
     ]
    },
    {
     "name": "stderr",
     "output_type": "stream",
     "text": [
      "Variable containing:\n",
      " 9.9639e-01\n",
      " 4.5555e-05\n",
      " 1.9750e-09\n",
      " 8.0535e-14\n",
      "[torch.cuda.FloatTensor of size 4 (GPU 0)]\n",
      "\n"
     ]
    },
    {
     "name": "stdout",
     "output_type": "stream",
     "text": [
      "-0.0007049670093692839\n"
     ]
    },
    {
     "name": "stderr",
     "output_type": "stream",
     "text": [
      "Variable containing:\n",
      " 1.0314e+00\n",
      " 4.8825e-05\n",
      " 2.1881e-09\n",
      " 9.2173e-14\n",
      "[torch.cuda.FloatTensor of size 4 (GPU 0)]\n",
      "\n"
     ]
    },
    {
     "name": "stdout",
     "output_type": "stream",
     "text": [
      "-0.0007080417708493769\n"
     ]
    },
    {
     "name": "stderr",
     "output_type": "stream",
     "text": [
      "Variable containing:\n",
      " 1.0719e+00\n",
      " 5.2737e-05\n",
      " 2.4522e-09\n",
      " 1.0711e-13\n",
      "[torch.cuda.FloatTensor of size 4 (GPU 0)]\n",
      "\n"
     ]
    },
    {
     "name": "stdout",
     "output_type": "stream",
     "text": [
      "-0.0007115390617400408\n"
     ]
    },
    {
     "name": "stderr",
     "output_type": "stream",
     "text": [
      "Variable containing:\n",
      " 1.1181e+00\n",
      " 5.7399e-05\n",
      " 2.7794e-09\n",
      " 1.2635e-13\n",
      "[torch.cuda.FloatTensor of size 4 (GPU 0)]\n",
      "\n"
     ]
    },
    {
     "name": "stdout",
     "output_type": "stream",
     "text": [
      "-0.0007154798367992043\n"
     ]
    },
    {
     "name": "stderr",
     "output_type": "stream",
     "text": [
      "Variable containing:\n",
      " 1.1708e+00\n",
      " 6.2944e-05\n",
      " 3.1855e-09\n",
      " 1.5127e-13\n",
      "[torch.cuda.FloatTensor of size 4 (GPU 0)]\n",
      "\n"
     ]
    },
    {
     "name": "stdout",
     "output_type": "stream",
     "text": [
      "-0.0007198880193755031\n"
     ]
    },
    {
     "name": "stderr",
     "output_type": "stream",
     "text": [
      "Variable containing:\n",
      " 1.2305e+00\n",
      " 6.9538e-05\n",
      " 3.6911e-09\n",
      " 1.8377e-13\n",
      "[torch.cuda.FloatTensor of size 4 (GPU 0)]\n",
      "\n"
     ]
    },
    {
     "name": "stdout",
     "output_type": "stream",
     "text": [
      "-0.0007247882895171642\n"
     ]
    },
    {
     "name": "stderr",
     "output_type": "stream",
     "text": [
      "Variable containing:\n",
      " 1.2980e+00\n",
      " 7.7385e-05\n",
      " 4.3234e-09\n",
      " 2.2648e-13\n",
      "[torch.cuda.FloatTensor of size 4 (GPU 0)]\n",
      "\n"
     ]
    },
    {
     "name": "stdout",
     "output_type": "stream",
     "text": [
      "-0.0007302092271856964\n"
     ]
    },
    {
     "name": "stderr",
     "output_type": "stream",
     "text": [
      "Variable containing:\n",
      " 1.3741e+00\n",
      " 8.6735e-05\n",
      " 5.1178e-09\n",
      " 2.8310e-13\n",
      "[torch.cuda.FloatTensor of size 4 (GPU 0)]\n",
      "\n"
     ]
    },
    {
     "name": "stdout",
     "output_type": "stream",
     "text": [
      "-0.0007361813331954181\n"
     ]
    },
    {
     "name": "stderr",
     "output_type": "stream",
     "text": [
      "Variable containing:\n",
      " 1.4597e+00\n",
      " 9.7900e-05\n",
      " 6.1217e-09\n",
      " 3.5883e-13\n",
      "[torch.cuda.FloatTensor of size 4 (GPU 0)]\n",
      "\n"
     ]
    },
    {
     "name": "stdout",
     "output_type": "stream",
     "text": [
      "-0.0007427368545904756\n"
     ]
    },
    {
     "name": "stderr",
     "output_type": "stream",
     "text": [
      "Variable containing:\n",
      " 1.5561e+00\n",
      " 1.1127e-04\n",
      " 7.3977e-09\n",
      " 4.6110e-13\n",
      "[torch.cuda.FloatTensor of size 4 (GPU 0)]\n",
      "\n"
     ]
    },
    {
     "name": "stdout",
     "output_type": "stream",
     "text": [
      "-0.0007499101338908076\n"
     ]
    },
    {
     "name": "stderr",
     "output_type": "stream",
     "text": [
      "Variable containing:\n",
      " 1.6645e+00\n",
      " 1.2732e-04\n",
      " 9.0297e-09\n",
      " 6.0053e-13\n",
      "[torch.cuda.FloatTensor of size 4 (GPU 0)]\n",
      "\n"
     ]
    },
    {
     "name": "stdout",
     "output_type": "stream",
     "text": [
      "-0.0007577385986223817\n"
     ]
    },
    {
     "name": "stderr",
     "output_type": "stream",
     "text": [
      "Variable containing:\n",
      " 1.7863e+00\n",
      " 1.4666e-04\n",
      " 1.1131e-08\n",
      " 7.9252e-13\n",
      "[torch.cuda.FloatTensor of size 4 (GPU 0)]\n",
      "\n"
     ]
    },
    {
     "name": "stdout",
     "output_type": "stream",
     "text": [
      "-0.0007662612479180098\n"
     ]
    },
    {
     "name": "stderr",
     "output_type": "stream",
     "text": [
      "Variable containing:\n",
      " 1.9234e+00\n",
      " 1.7004e-04\n",
      " 1.3854e-08\n",
      " 1.0596e-12\n",
      "[torch.cuda.FloatTensor of size 4 (GPU 0)]\n",
      "\n"
     ]
    },
    {
     "name": "stdout",
     "output_type": "stream",
     "text": [
      "-0.0007755181286484003\n"
     ]
    },
    {
     "name": "stderr",
     "output_type": "stream",
     "text": [
      "Variable containing:\n",
      " 2.0775e+00\n",
      " 1.9841e-04\n",
      " 1.7407e-08\n",
      " 1.4347e-12\n",
      "[torch.cuda.FloatTensor of size 4 (GPU 0)]\n",
      "\n"
     ]
    },
    {
     "name": "stdout",
     "output_type": "stream",
     "text": [
      "-0.0007855521398596466\n"
     ]
    },
    {
     "name": "stderr",
     "output_type": "stream",
     "text": [
      "Variable containing:\n",
      " 2.2511e+00\n",
      " 2.3296e-04\n",
      " 2.2075e-08\n",
      " 1.9672e-12\n",
      "[torch.cuda.FloatTensor of size 4 (GPU 0)]\n",
      "\n"
     ]
    },
    {
     "name": "stdout",
     "output_type": "stream",
     "text": [
      "-0.0007964072283357382\n"
     ]
    },
    {
     "name": "stderr",
     "output_type": "stream",
     "text": [
      "Variable containing:\n",
      " 2.4466e+00\n",
      " 2.7520e-04\n",
      " 2.8251e-08\n",
      " 2.7304e-12\n",
      "[torch.cuda.FloatTensor of size 4 (GPU 0)]\n",
      "\n"
     ]
    },
    {
     "name": "stdout",
     "output_type": "stream",
     "text": [
      "-0.0008081292035058141\n"
     ]
    },
    {
     "name": "stderr",
     "output_type": "stream",
     "text": [
      "Variable containing:\n",
      " 2.6671e+00\n",
      " 3.2707e-04\n",
      " 3.6477e-08\n",
      " 3.8356e-12\n",
      "[torch.cuda.FloatTensor of size 4 (GPU 0)]\n",
      "\n"
     ]
    },
    {
     "name": "stdout",
     "output_type": "stream",
     "text": [
      "-0.0008207649807445705\n"
     ]
    },
    {
     "name": "stderr",
     "output_type": "stream",
     "text": [
      "Variable containing:\n",
      " 2.9160e+00\n",
      " 3.9098e-04\n",
      " 4.7511e-08\n",
      " 5.4518e-12\n",
      "[torch.cuda.FloatTensor of size 4 (GPU 0)]\n",
      "\n"
     ]
    },
    {
     "name": "stdout",
     "output_type": "stream",
     "text": [
      "-0.000834362639579922\n"
     ]
    },
    {
     "name": "stderr",
     "output_type": "stream",
     "text": [
      "Variable containing:\n",
      " 3.1972e+00\n",
      " 4.7008e-04\n",
      " 6.2413e-08\n",
      " 7.8389e-12\n",
      "[torch.cuda.FloatTensor of size 4 (GPU 0)]\n",
      "\n"
     ]
    },
    {
     "name": "stdout",
     "output_type": "stream",
     "text": [
      "-0.0008489714236930013\n"
     ]
    },
    {
     "name": "stderr",
     "output_type": "stream",
     "text": [
      "Variable containing:\n",
      " 3.5153e+00\n",
      " 5.6834e-04\n",
      " 8.2674e-08\n",
      " 1.1399e-11\n",
      "[torch.cuda.FloatTensor of size 4 (GPU 0)]\n",
      "\n"
     ]
    },
    {
     "name": "stdout",
     "output_type": "stream",
     "text": [
      "-0.0008646411588415504\n"
     ]
    },
    {
     "name": "stderr",
     "output_type": "stream",
     "text": [
      "Variable containing:\n",
      " 3.8756e+00\n",
      " 6.9092e-04\n",
      " 1.1041e-07\n",
      " 1.6759e-11\n",
      "[torch.cuda.FloatTensor of size 4 (GPU 0)]\n",
      "\n"
     ]
    },
    {
     "name": "stdout",
     "output_type": "stream",
     "text": [
      "-0.0008814239990897477\n"
     ]
    },
    {
     "name": "stderr",
     "output_type": "stream",
     "text": [
      "Variable containing:\n",
      " 4.2842e+00\n",
      " 8.4442e-04\n",
      " 1.4863e-07\n",
      " 2.4907e-11\n",
      "[torch.cuda.FloatTensor of size 4 (GPU 0)]\n",
      "\n"
     ]
    },
    {
     "name": "stdout",
     "output_type": "stream",
     "text": [
      "-0.0008993709343485534\n"
     ]
    },
    {
     "name": "stderr",
     "output_type": "stream",
     "text": [
      "Variable containing:\n",
      " 4.7481e+00\n",
      " 1.0374e-03\n",
      " 2.0165e-07\n",
      " 3.7409e-11\n",
      "[torch.cuda.FloatTensor of size 4 (GPU 0)]\n",
      "\n"
     ]
    },
    {
     "name": "stdout",
     "output_type": "stream",
     "text": [
      "-0.0009185353992506862\n"
     ]
    },
    {
     "name": "stderr",
     "output_type": "stream",
     "text": [
      "Variable containing:\n",
      " 5.2754e+00\n",
      " 1.2810e-03\n",
      " 2.7567e-07\n",
      " 5.6765e-11\n",
      "[torch.cuda.FloatTensor of size 4 (GPU 0)]\n",
      "\n"
     ]
    },
    {
     "name": "stdout",
     "output_type": "stream",
     "text": [
      "-0.0009389714105054736\n"
     ]
    },
    {
     "name": "stderr",
     "output_type": "stream",
     "text": [
      "Variable containing:\n",
      " 5.8757e+00\n",
      " 1.5896e-03\n",
      " 3.7966e-07\n",
      " 8.7007e-11\n",
      "[torch.cuda.FloatTensor of size 4 (GPU 0)]\n",
      "\n"
     ]
    },
    {
     "name": "stdout",
     "output_type": "stream",
     "text": [
      "-0.0009607348474673927\n"
     ]
    },
    {
     "name": "stderr",
     "output_type": "stream",
     "text": [
      "Variable containing:\n",
      " 6.5596e+00\n",
      " 1.9822e-03\n",
      " 5.2667e-07\n",
      " 1.3467e-10\n",
      "[torch.cuda.FloatTensor of size 4 (GPU 0)]\n",
      "\n"
     ]
    },
    {
     "name": "stdout",
     "output_type": "stream",
     "text": [
      "-0.0009838816476985812\n"
     ]
    },
    {
     "name": "stderr",
     "output_type": "stream",
     "text": [
      "Variable containing:\n",
      " 7.3400e+00\n",
      " 2.4832e-03\n",
      " 7.3577e-07\n",
      " 2.1044e-10\n",
      "[torch.cuda.FloatTensor of size 4 (GPU 0)]\n",
      "\n"
     ]
    },
    {
     "name": "stdout",
     "output_type": "stream",
     "text": [
      "-0.0010084708919748664\n"
     ]
    },
    {
     "name": "stderr",
     "output_type": "stream",
     "text": [
      "Variable containing:\n",
      " 8.2314e+00\n",
      " 3.1250e-03\n",
      " 1.0350e-06\n",
      " 3.3192e-10\n",
      "[torch.cuda.FloatTensor of size 4 (GPU 0)]\n",
      "\n"
     ]
    },
    {
     "name": "stdout",
     "output_type": "stream",
     "text": [
      "-0.0010345646878704429\n"
     ]
    },
    {
     "name": "stderr",
     "output_type": "stream",
     "text": [
      "Variable containing:\n",
      " 9.2506e+00\n",
      " 3.9500e-03\n",
      " 1.4656e-06\n",
      " 5.2828e-10\n",
      "[torch.cuda.FloatTensor of size 4 (GPU 0)]\n",
      "\n"
     ]
    },
    {
     "name": "stdout",
     "output_type": "stream",
     "text": [
      "-0.0010622272966429591\n"
     ]
    },
    {
     "name": "stderr",
     "output_type": "stream",
     "text": [
      "Variable containing:\n",
      " 1.0417e+01\n",
      " 5.0142e-03\n",
      " 2.0888e-06\n",
      " 8.4821e-10\n",
      "[torch.cuda.FloatTensor of size 4 (GPU 0)]\n",
      "\n"
     ]
    },
    {
     "name": "stdout",
     "output_type": "stream",
     "text": [
      "-0.001091528101824224\n"
     ]
    },
    {
     "name": "stderr",
     "output_type": "stream",
     "text": [
      "Variable containing:\n",
      " 1.1754e+01\n",
      " 6.3914e-03\n",
      " 2.9958e-06\n",
      " 1.3736e-09\n",
      "[torch.cuda.FloatTensor of size 4 (GPU 0)]\n",
      "\n"
     ]
    },
    {
     "name": "stdout",
     "output_type": "stream",
     "text": [
      "-0.0011225425405427814\n"
     ]
    },
    {
     "name": "stderr",
     "output_type": "stream",
     "text": [
      "Variable containing:\n",
      " 1.3286e+01\n",
      " 8.1792e-03\n",
      " 4.3228e-06\n",
      " 2.2429e-09\n",
      "[torch.cuda.FloatTensor of size 4 (GPU 0)]\n",
      "\n"
     ]
    },
    {
     "name": "stdout",
     "output_type": "stream",
     "text": [
      "-0.001155355479568243\n"
     ]
    },
    {
     "name": "stderr",
     "output_type": "stream",
     "text": [
      "Variable containing:\n",
      " 1.5045e+01\n",
      " 1.0507e-02\n",
      " 6.2744e-06\n",
      " 3.6921e-09\n",
      "[torch.cuda.FloatTensor of size 4 (GPU 0)]\n",
      "\n"
     ]
    },
    {
     "name": "stdout",
     "output_type": "stream",
     "text": [
      "-0.0011900619138032198\n"
     ]
    },
    {
     "name": "stderr",
     "output_type": "stream",
     "text": [
      "Variable containing:\n",
      " 1.7063e+01\n",
      " 1.3547e-02\n",
      " 9.1590e-06\n",
      " 6.1252e-09\n",
      "[torch.cuda.FloatTensor of size 4 (GPU 0)]\n",
      "\n"
     ]
    },
    {
     "name": "stdout",
     "output_type": "stream",
     "text": [
      "-0.0012267740676179528\n"
     ]
    },
    {
     "name": "stderr",
     "output_type": "stream",
     "text": [
      "Variable containing:\n",
      " 1.9382e+01\n",
      " 1.7527e-02\n",
      " 1.3443e-05\n",
      " 1.0239e-08\n",
      "[torch.cuda.FloatTensor of size 4 (GPU 0)]\n",
      "\n"
     ]
    },
    {
     "name": "stdout",
     "output_type": "stream",
     "text": [
      "-0.0012656243052333593\n"
     ]
    },
    {
     "name": "stderr",
     "output_type": "stream",
     "text": [
      "Variable containing:\n",
      " 2.2047e+01\n",
      " 2.2753e-02\n",
      " 1.9836e-05\n",
      " 1.7243e-08\n",
      "[torch.cuda.FloatTensor of size 4 (GPU 0)]\n",
      "\n"
     ]
    },
    {
     "name": "stdout",
     "output_type": "stream",
     "text": [
      "-0.001306775026023388\n"
     ]
    },
    {
     "name": "stderr",
     "output_type": "stream",
     "text": [
      "Variable containing:\n",
      " 2.5109e+01\n",
      " 2.9630e-02\n",
      " 2.9419e-05\n",
      " 2.9244e-08\n",
      "[torch.cuda.FloatTensor of size 4 (GPU 0)]\n",
      "\n"
     ]
    },
    {
     "name": "stdout",
     "output_type": "stream",
     "text": [
      "-0.0013504299568012357\n"
     ]
    },
    {
     "name": "stderr",
     "output_type": "stream",
     "text": [
      "Variable containing:\n",
      " 2.8626e+01\n",
      " 3.8700e-02\n",
      " 4.3843e-05\n",
      " 4.9945e-08\n",
      "[torch.cuda.FloatTensor of size 4 (GPU 0)]\n",
      "\n"
     ]
    },
    {
     "name": "stdout",
     "output_type": "stream",
     "text": [
      "-0.0013968468410894275\n"
     ]
    },
    {
     "name": "stderr",
     "output_type": "stream",
     "text": [
      "Variable containing:\n",
      " 3.2666e+01\n",
      " 5.0686e-02\n",
      " 6.5646e-05\n",
      " 8.5875e-08\n",
      "[torch.cuda.FloatTensor of size 4 (GPU 0)]\n",
      "\n"
     ]
    },
    {
     "name": "stdout",
     "output_type": "stream",
     "text": [
      "-0.0014463576953858137\n"
     ]
    },
    {
     "name": "stderr",
     "output_type": "stream",
     "text": [
      "Variable containing:\n",
      " 3.7303e+01\n",
      " 6.6554e-02\n",
      " 9.8732e-05\n",
      " 1.4862e-07\n",
      "[torch.cuda.FloatTensor of size 4 (GPU 0)]\n",
      "\n"
     ]
    },
    {
     "name": "stdout",
     "output_type": "stream",
     "text": [
      "-0.0014993962831795216\n"
     ]
    },
    {
     "name": "stderr",
     "output_type": "stream",
     "text": [
      "Variable containing:\n",
      " 4.2620e+01\n",
      " 8.7594e-02\n",
      " 1.4912e-04\n",
      " 2.5884e-07\n",
      "[torch.cuda.FloatTensor of size 4 (GPU 0)]\n",
      "\n"
     ]
    },
    {
     "name": "stdout",
     "output_type": "stream",
     "text": [
      "-0.0015565225621685386\n"
     ]
    },
    {
     "name": "stderr",
     "output_type": "stream",
     "text": [
      "Variable containing:\n",
      " 4.8708e+01\n",
      " 1.1552e-01\n",
      " 2.2613e-04\n",
      " 4.5351e-07\n",
      "[torch.cuda.FloatTensor of size 4 (GPU 0)]\n",
      "\n"
     ]
    },
    {
     "name": "stdout",
     "output_type": "stream",
     "text": [
      "-0.0016184664564207196\n"
     ]
    },
    {
     "name": "stderr",
     "output_type": "stream",
     "text": [
      "Variable containing:\n",
      " 5.5670e+01\n",
      " 1.5261e-01\n",
      " 3.4415e-04\n",
      " 7.9908e-07\n",
      "[torch.cuda.FloatTensor of size 4 (GPU 0)]\n",
      "\n"
     ]
    },
    {
     "name": "stdout",
     "output_type": "stream",
     "text": [
      "-0.001686161500401795\n"
     ]
    },
    {
     "name": "stderr",
     "output_type": "stream",
     "text": [
      "Variable containing:\n",
      " 6.3614e+01\n",
      " 2.0189e-01\n",
      " 5.2548e-04\n",
      " 1.4152e-06\n",
      "[torch.cuda.FloatTensor of size 4 (GPU 0)]\n",
      "\n"
     ]
    },
    {
     "name": "stdout",
     "output_type": "stream",
     "text": [
      "-0.0017607914051041007\n"
     ]
    },
    {
     "name": "stderr",
     "output_type": "stream",
     "text": [
      "Variable containing:\n",
      " 7.2657e+01\n",
      " 2.6734e-01\n",
      " 8.0449e-04\n",
      " 2.5171e-06\n",
      "[torch.cuda.FloatTensor of size 4 (GPU 0)]\n",
      "\n"
     ]
    },
    {
     "name": "stdout",
     "output_type": "stream",
     "text": [
      "-0.0018438133411109447\n"
     ]
    },
    {
     "name": "stderr",
     "output_type": "stream",
     "text": [
      "Variable containing:\n",
      " 8.2921e+01\n",
      " 3.5417e-01\n",
      " 1.2341e-03\n",
      " 4.4918e-06\n",
      "[torch.cuda.FloatTensor of size 4 (GPU 0)]\n",
      "\n"
     ]
    },
    {
     "name": "stdout",
     "output_type": "stream",
     "text": [
      "-0.0019369730725884438\n"
     ]
    },
    {
     "name": "stderr",
     "output_type": "stream",
     "text": [
      "Variable containing:\n",
      " 9.4534e+01\n",
      " 4.6918e-01\n",
      " 1.8954e-03\n",
      " 8.0316e-06\n",
      "[torch.cuda.FloatTensor of size 4 (GPU 0)]\n",
      "\n"
     ]
    },
    {
     "name": "stdout",
     "output_type": "stream",
     "text": [
      "-0.0020422879606485367\n"
     ]
    },
    {
     "name": "stderr",
     "output_type": "stream",
     "text": [
      "Variable containing:\n",
      " 1.0762e+02\n",
      " 6.2113e-01\n",
      " 2.9113e-03\n",
      " 1.4367e-05\n",
      "[torch.cuda.FloatTensor of size 4 (GPU 0)]\n",
      "\n"
     ]
    },
    {
     "name": "stdout",
     "output_type": "stream",
     "text": [
      "-0.00216198549605906\n"
     ]
    },
    {
     "name": "stderr",
     "output_type": "stream",
     "text": [
      "Variable containing:\n",
      " 1.2231e+02\n",
      " 8.2123e-01\n",
      " 4.4671e-03\n",
      " 2.5669e-05\n",
      "[torch.cuda.FloatTensor of size 4 (GPU 0)]\n",
      "\n"
     ]
    },
    {
     "name": "stdout",
     "output_type": "stream",
     "text": [
      "-0.0022984168026596308\n"
     ]
    },
    {
     "name": "stderr",
     "output_type": "stream",
     "text": [
      "Variable containing:\n",
      " 1.3871e+02\n",
      " 1.0837e+00\n",
      " 6.8393e-03\n",
      " 4.5718e-05\n",
      "[torch.cuda.FloatTensor of size 4 (GPU 0)]\n",
      "\n"
     ]
    },
    {
     "name": "stdout",
     "output_type": "stream",
     "text": [
      "-0.0024539472069591284\n"
     ]
    },
    {
     "name": "stderr",
     "output_type": "stream",
     "text": [
      "Variable containing:\n",
      " 1.5693e+02\n",
      " 1.4265e+00\n",
      " 1.0435e-02\n",
      " 8.1034e-05\n",
      "[torch.cuda.FloatTensor of size 4 (GPU 0)]\n",
      "\n"
     ]
    },
    {
     "name": "stdout",
     "output_type": "stream",
     "text": [
      "-0.0026308789383620024\n"
     ]
    },
    {
     "name": "stderr",
     "output_type": "stream",
     "text": [
      "Variable containing:\n",
      " 1.7706e+02\n",
      " 1.8718e+00\n",
      " 1.5847e-02\n",
      " 1.4268e-04\n",
      "[torch.cuda.FloatTensor of size 4 (GPU 0)]\n",
      "\n"
     ]
    },
    {
     "name": "stdout",
     "output_type": "stream",
     "text": [
      "-0.0028314150404185057\n"
     ]
    },
    {
     "name": "stderr",
     "output_type": "stream",
     "text": [
      "Variable containing:\n",
      " 1.9914e+02\n",
      " 2.4472e+00\n",
      " 2.3927e-02\n",
      " 2.4912e-04\n",
      "[torch.cuda.FloatTensor of size 4 (GPU 0)]\n",
      "\n"
     ]
    },
    {
     "name": "stdout",
     "output_type": "stream",
     "text": [
      "-0.00305770942941308\n"
     ]
    },
    {
     "name": "stderr",
     "output_type": "stream",
     "text": [
      "Variable containing:\n",
      " 2.2322e+02\n",
      " 3.1860e+00\n",
      " 3.5880e-02\n",
      " 4.3061e-04\n",
      "[torch.cuda.FloatTensor of size 4 (GPU 0)]\n",
      "\n"
     ]
    },
    {
     "name": "stdout",
     "output_type": "stream",
     "text": [
      "-0.0033120184671133757\n"
     ]
    },
    {
     "name": "stderr",
     "output_type": "stream",
     "text": [
      "Variable containing:\n",
      " 2.4928e+02\n",
      " 4.1285e+00\n",
      " 5.3389e-02\n",
      " 7.3573e-04\n",
      "[torch.cuda.FloatTensor of size 4 (GPU 0)]\n",
      "\n"
     ]
    },
    {
     "name": "stdout",
     "output_type": "stream",
     "text": [
      "-0.003596941940486431\n"
     ]
    },
    {
     "name": "stderr",
     "output_type": "stream",
     "text": [
      "Variable containing:\n",
      " 2.7728e+02\n",
      " 5.3226e+00\n",
      " 7.8777e-02\n",
      " 1.2408e-03\n",
      "[torch.cuda.FloatTensor of size 4 (GPU 0)]\n",
      "\n"
     ]
    },
    {
     "name": "stdout",
     "output_type": "stream",
     "text": [
      "-0.003915729001164436\n"
     ]
    },
    {
     "name": "stderr",
     "output_type": "stream",
     "text": [
      "Variable containing:\n",
      " 3.0712e+02\n",
      " 6.8237e+00\n",
      " 1.1523e-01\n",
      " 2.0634e-03\n",
      "[torch.cuda.FloatTensor of size 4 (GPU 0)]\n",
      "\n"
     ]
    },
    {
     "name": "stdout",
     "output_type": "stream",
     "text": [
      "-0.004272688180208206\n"
     ]
    },
    {
     "name": "stderr",
     "output_type": "stream",
     "text": [
      "Variable containing:\n",
      " 3.3869e+02\n",
      " 8.6954e+00\n",
      " 1.6713e-01\n",
      " 3.3831e-03\n",
      "[torch.cuda.FloatTensor of size 4 (GPU 0)]\n",
      "\n"
     ]
    },
    {
     "name": "stdout",
     "output_type": "stream",
     "text": [
      "-0.004673715680837631\n"
     ]
    },
    {
     "name": "stderr",
     "output_type": "stream",
     "text": [
      "Variable containing:\n",
      " 3.7182e+02\n",
      " 1.1010e+01\n",
      " 2.4055e-01\n",
      " 5.4744e-03\n",
      "[torch.cuda.FloatTensor of size 4 (GPU 0)]\n",
      "\n"
     ]
    },
    {
     "name": "stdout",
     "output_type": "stream",
     "text": [
      "-0.005126927979290485\n"
     ]
    },
    {
     "name": "stderr",
     "output_type": "stream",
     "text": [
      "Variable containing:\n",
      " 4.0629e+02\n",
      " 1.3847e+01\n",
      " 3.4393e-01\n",
      " 8.7624e-03\n",
      "[torch.cuda.FloatTensor of size 4 (GPU 0)]\n",
      "\n"
     ]
    },
    {
     "name": "stdout",
     "output_type": "stream",
     "text": [
      "-0.005643246695399284\n"
     ]
    },
    {
     "name": "stderr",
     "output_type": "stream",
     "text": [
      "Variable containing:\n",
      " 441.8869\n",
      "  17.2933\n",
      "   0.4886\n",
      "   0.0139\n",
      "[torch.cuda.FloatTensor of size 4 (GPU 0)]\n",
      "\n"
     ]
    },
    {
     "name": "stdout",
     "output_type": "stream",
     "text": [
      "-0.006236579269170761\n"
     ]
    },
    {
     "name": "stderr",
     "output_type": "stream",
     "text": [
      "Variable containing:\n",
      " 478.3571\n",
      "  21.4393\n",
      "   0.6896\n",
      "   0.0220\n",
      "[torch.cuda.FloatTensor of size 4 (GPU 0)]\n",
      "\n"
     ]
    },
    {
     "name": "stdout",
     "output_type": "stream",
     "text": [
      "-0.006923485081642866\n"
     ]
    },
    {
     "name": "stderr",
     "output_type": "stream",
     "text": [
      "Variable containing:\n",
      " 515.4325\n",
      "  26.3763\n",
      "   0.9659\n",
      "   0.0347\n",
      "[torch.cuda.FloatTensor of size 4 (GPU 0)]\n",
      "\n"
     ]
    },
    {
     "name": "stdout",
     "output_type": "stream",
     "text": [
      "-0.007723068352788687\n"
     ]
    },
    {
     "name": "stderr",
     "output_type": "stream",
     "text": [
      "Variable containing:\n",
      " 552.8334\n",
      "  32.1946\n",
      "   1.3418\n",
      "   0.0547\n",
      "[torch.cuda.FloatTensor of size 4 (GPU 0)]\n",
      "\n"
     ]
    },
    {
     "name": "stdout",
     "output_type": "stream",
     "text": [
      "-0.008657336235046387\n"
     ]
    },
    {
     "name": "stderr",
     "output_type": "stream",
     "text": [
      "Variable containing:\n",
      " 590.2804\n",
      "  38.9830\n",
      "   1.8477\n",
      "   0.0859\n",
      "[torch.cuda.FloatTensor of size 4 (GPU 0)]\n",
      "\n"
     ]
    },
    {
     "name": "stdout",
     "output_type": "stream",
     "text": [
      "-0.00975191593170166\n"
     ]
    },
    {
     "name": "stderr",
     "output_type": "stream",
     "text": [
      "Variable containing:\n",
      " 627.5074\n",
      "  46.8274\n",
      "   2.5198\n",
      "   0.1338\n",
      "[torch.cuda.FloatTensor of size 4 (GPU 0)]\n",
      "\n"
     ]
    },
    {
     "name": "stdout",
     "output_type": "stream",
     "text": [
      "-0.011037281714379787\n"
     ]
    },
    {
     "name": "stderr",
     "output_type": "stream",
     "text": [
      "Variable containing:\n",
      " 664.2649\n",
      "  55.8083\n",
      "   3.4011\n",
      "   0.2057\n",
      "[torch.cuda.FloatTensor of size 4 (GPU 0)]\n",
      "\n"
     ]
    },
    {
     "name": "stdout",
     "output_type": "stream",
     "text": [
      "-0.012550365179777145\n"
     ]
    },
    {
     "name": "stderr",
     "output_type": "stream",
     "text": [
      "Variable containing:\n",
      " 700.3286\n",
      "  65.9995\n",
      "   4.5416\n",
      "   0.3112\n",
      "[torch.cuda.FloatTensor of size 4 (GPU 0)]\n",
      "\n"
     ]
    },
    {
     "name": "stdout",
     "output_type": "stream",
     "text": [
      "-0.014335940591990948\n"
     ]
    },
    {
     "name": "stderr",
     "output_type": "stream",
     "text": [
      "Variable containing:\n",
      " 735.5217\n",
      "  77.4664\n",
      "   5.9981\n",
      "   0.4618\n",
      "[torch.cuda.FloatTensor of size 4 (GPU 0)]\n",
      "\n"
     ]
    },
    {
     "name": "stdout",
     "output_type": "stream",
     "text": [
      "-0.016445009037852287\n"
     ]
    },
    {
     "name": "stderr",
     "output_type": "stream",
     "text": [
      "Variable containing:\n",
      " 769.7251\n",
      "  90.2626\n",
      "   7.8319\n",
      "   0.6705\n",
      "[torch.cuda.FloatTensor of size 4 (GPU 0)]\n",
      "\n"
     ]
    },
    {
     "name": "stdout",
     "output_type": "stream",
     "text": [
      "-0.0189288929104805\n"
     ]
    },
    {
     "name": "stderr",
     "output_type": "stream",
     "text": [
      "Variable containing:\n",
      " 802.8716\n",
      " 104.4245\n",
      "  10.1052\n",
      "   0.9514\n",
      "[torch.cuda.FloatTensor of size 4 (GPU 0)]\n",
      "\n"
     ]
    },
    {
     "name": "stdout",
     "output_type": "stream",
     "text": [
      "-0.021832415834069252\n"
     ]
    },
    {
     "name": "stderr",
     "output_type": "stream",
     "text": [
      "Variable containing:\n",
      " 834.9225\n",
      " 119.9684\n",
      "  12.8784\n",
      "   1.3192\n",
      "[torch.cuda.FloatTensor of size 4 (GPU 0)]\n",
      "\n"
     ]
    },
    {
     "name": "stdout",
     "output_type": "stream",
     "text": [
      "-0.02519027143716812\n"
     ]
    },
    {
     "name": "stderr",
     "output_type": "stream",
     "text": [
      "Variable containing:\n",
      " 865.8572\n",
      " 136.8889\n",
      "  16.2062\n",
      "   1.7890\n",
      "[torch.cuda.FloatTensor of size 4 (GPU 0)]\n",
      "\n"
     ]
    },
    {
     "name": "stdout",
     "output_type": "stream",
     "text": [
      "-0.029023844748735428\n"
     ]
    },
    {
     "name": "stderr",
     "output_type": "stream",
     "text": [
      "Variable containing:\n",
      " 895.6607\n",
      " 155.1579\n",
      "  20.1348\n",
      "   2.3747\n",
      "[torch.cuda.FloatTensor of size 4 (GPU 0)]\n",
      "\n"
     ]
    },
    {
     "name": "stdout",
     "output_type": "stream",
     "text": [
      "-0.033339571207761765\n"
     ]
    },
    {
     "name": "stderr",
     "output_type": "stream",
     "text": [
      "Variable containing:\n",
      " 924.3082\n",
      " 174.7270\n",
      "  24.7033\n",
      "   3.0912\n",
      "[torch.cuda.FloatTensor of size 4 (GPU 0)]\n",
      "\n"
     ]
    },
    {
     "name": "stdout",
     "output_type": "stream",
     "text": [
      "-0.03813660889863968\n"
     ]
    },
    {
     "name": "stderr",
     "output_type": "stream",
     "text": [
      "Variable containing:\n",
      " 951.7995\n",
      " 195.5226\n",
      "  29.9454\n",
      "   3.9571\n",
      "[torch.cuda.FloatTensor of size 4 (GPU 0)]\n",
      "\n"
     ]
    },
    {
     "name": "stdout",
     "output_type": "stream",
     "text": [
      "-0.04341712221503258\n"
     ]
    },
    {
     "name": "stderr",
     "output_type": "stream",
     "text": [
      "Variable containing:\n",
      " 978.1956\n",
      " 217.4468\n",
      "  35.8896\n",
      "   4.9970\n",
      "[torch.cuda.FloatTensor of size 4 (GPU 0)]\n",
      "\n"
     ]
    },
    {
     "name": "stdout",
     "output_type": "stream",
     "text": [
      "-0.049188777804374695\n"
     ]
    },
    {
     "name": "stderr",
     "output_type": "stream",
     "text": [
      "Variable containing:\n",
      " 1003.5726\n",
      "  240.3840\n",
      "   42.5567\n",
      "    6.2408\n",
      "[torch.cuda.FloatTensor of size 4 (GPU 0)]\n",
      "\n"
     ]
    },
    {
     "name": "stdout",
     "output_type": "stream",
     "text": [
      "-0.05546063557267189\n"
     ]
    },
    {
     "name": "stderr",
     "output_type": "stream",
     "text": [
      "Variable containing:\n",
      " 1027.9928\n",
      "  264.1954\n",
      "   49.9644\n",
      "    7.7250\n",
      "[torch.cuda.FloatTensor of size 4 (GPU 0)]\n",
      "\n"
     ]
    },
    {
     "name": "stdout",
     "output_type": "stream",
     "text": [
      "-0.06224508211016655\n"
     ]
    },
    {
     "name": "stderr",
     "output_type": "stream",
     "text": [
      "Variable containing:\n",
      " 1051.5060\n",
      "  288.7137\n",
      "   58.1300\n",
      "    9.4913\n",
      "[torch.cuda.FloatTensor of size 4 (GPU 0)]\n",
      "\n"
     ]
    },
    {
     "name": "stdout",
     "output_type": "stream",
     "text": [
      "-0.06955217570066452\n"
     ]
    },
    {
     "name": "stderr",
     "output_type": "stream",
     "text": [
      "Variable containing:\n",
      " 1074.1470\n",
      "  313.7686\n",
      "   67.0665\n",
      "   11.5869\n",
      "[torch.cuda.FloatTensor of size 4 (GPU 0)]\n",
      "\n"
     ]
    },
    {
     "name": "stdout",
     "output_type": "stream",
     "text": [
      "-0.07738916575908661\n"
     ]
    },
    {
     "name": "stderr",
     "output_type": "stream",
     "text": [
      "Variable containing:\n",
      " 1095.9232\n",
      "  339.1959\n",
      "   76.7778\n",
      "   14.0620\n",
      "[torch.cuda.FloatTensor of size 4 (GPU 0)]\n",
      "\n"
     ]
    },
    {
     "name": "stdout",
     "output_type": "stream",
     "text": [
      "-0.0857558324933052\n"
     ]
    },
    {
     "name": "stderr",
     "output_type": "stream",
     "text": [
      "Variable containing:\n",
      " 1116.8142\n",
      "  364.8248\n",
      "   87.2544\n",
      "   16.9637\n",
      "[torch.cuda.FloatTensor of size 4 (GPU 0)]\n",
      "\n"
     ]
    },
    {
     "name": "stdout",
     "output_type": "stream",
     "text": [
      "-0.09463376551866531\n"
     ]
    },
    {
     "name": "stderr",
     "output_type": "stream",
     "text": [
      "Variable containing:\n",
      " 1136.7894\n",
      "  390.4711\n",
      "   98.4737\n",
      "   20.3301\n",
      "[torch.cuda.FloatTensor of size 4 (GPU 0)]\n",
      "\n"
     ]
    },
    {
     "name": "stdout",
     "output_type": "stream",
     "text": [
      "-0.10398443788290024\n"
     ]
    },
    {
     "name": "stderr",
     "output_type": "stream",
     "text": [
      "Variable containing:\n",
      " 1155.8416\n",
      "  415.9545\n",
      "  110.4024\n",
      "   24.1860\n",
      "[torch.cuda.FloatTensor of size 4 (GPU 0)]\n",
      "\n"
     ]
    },
    {
     "name": "stdout",
     "output_type": "stream",
     "text": [
      "-0.11375139653682709\n"
     ]
    },
    {
     "name": "stderr",
     "output_type": "stream",
     "text": [
      "Variable containing:\n",
      " 1174.0114\n",
      "  441.1101\n",
      "  123.0041\n",
      "   28.5437\n",
      "[torch.cuda.FloatTensor of size 4 (GPU 0)]\n",
      "\n"
     ]
    },
    {
     "name": "stdout",
     "output_type": "stream",
     "text": [
      "-0.12387126684188843\n"
     ]
    },
    {
     "name": "stderr",
     "output_type": "stream",
     "text": [
      "Variable containing:\n",
      " 1191.3627\n",
      "  465.8104\n",
      "  136.2373\n",
      "   33.4027\n",
      "[torch.cuda.FloatTensor of size 4 (GPU 0)]\n",
      "\n"
     ]
    },
    {
     "name": "stdout",
     "output_type": "stream",
     "text": [
      "-0.1342783123254776\n"
     ]
    },
    {
     "name": "stderr",
     "output_type": "stream",
     "text": [
      "Variable containing:\n",
      " 1207.9343\n",
      "  489.9669\n",
      "  150.0474\n",
      "   38.7470\n",
      "[torch.cuda.FloatTensor of size 4 (GPU 0)]\n",
      "\n"
     ]
    },
    {
     "name": "stdout",
     "output_type": "stream",
     "text": [
      "-0.14490078389644623\n"
     ]
    },
    {
     "name": "stderr",
     "output_type": "stream",
     "text": [
      "Variable containing:\n",
      " 1223.7147\n",
      "  513.5516\n",
      "  164.3704\n",
      "   44.5420\n",
      "[torch.cuda.FloatTensor of size 4 (GPU 0)]\n",
      "\n"
     ]
    },
    {
     "name": "stdout",
     "output_type": "stream",
     "text": [
      "-0.15566317737102509\n"
     ]
    },
    {
     "name": "stderr",
     "output_type": "stream",
     "text": [
      "Variable containing:\n",
      " 1238.6692\n",
      "  536.5884\n",
      "  179.1227\n",
      "   50.7337\n",
      "[torch.cuda.FloatTensor of size 4 (GPU 0)]\n",
      "\n"
     ]
    },
    {
     "name": "stdout",
     "output_type": "stream",
     "text": [
      "-0.16648566722869873\n"
     ]
    },
    {
     "name": "stderr",
     "output_type": "stream",
     "text": [
      "Variable containing:\n",
      " 1252.8336\n",
      "  559.0809\n",
      "  194.1883\n",
      "   57.2584\n",
      "[torch.cuda.FloatTensor of size 4 (GPU 0)]\n",
      "\n"
     ]
    },
    {
     "name": "stdout",
     "output_type": "stream",
     "text": [
      "-0.1772874891757965\n"
     ]
    },
    {
     "name": "stderr",
     "output_type": "stream",
     "text": [
      "Variable containing:\n",
      " 1266.3159\n",
      "  580.9765\n",
      "  209.4293\n",
      "   64.0445\n",
      "[torch.cuda.FloatTensor of size 4 (GPU 0)]\n",
      "\n"
     ]
    },
    {
     "name": "stdout",
     "output_type": "stream",
     "text": [
      "-0.1879875659942627\n"
     ]
    },
    {
     "name": "stderr",
     "output_type": "stream",
     "text": [
      "Variable containing:\n",
      " 1279.1970\n",
      "  602.1891\n",
      "  224.7073\n",
      "   71.0192\n",
      "[torch.cuda.FloatTensor of size 4 (GPU 0)]\n",
      "\n"
     ]
    },
    {
     "name": "stdout",
     "output_type": "stream",
     "text": [
      "-0.19851049780845642\n"
     ]
    },
    {
     "name": "stderr",
     "output_type": "stream",
     "text": [
      "Variable containing:\n",
      " 1291.4937\n",
      "  622.6292\n",
      "  239.8978\n",
      "   78.1211\n",
      "[torch.cuda.FloatTensor of size 4 (GPU 0)]\n",
      "\n"
     ]
    },
    {
     "name": "stdout",
     "output_type": "stream",
     "text": [
      "-0.2087961584329605\n"
     ]
    },
    {
     "name": "stderr",
     "output_type": "stream",
     "text": [
      "Variable containing:\n",
      " 1303.2075\n",
      "  642.2180\n",
      "  254.8867\n",
      "   85.3019\n",
      "[torch.cuda.FloatTensor of size 4 (GPU 0)]\n",
      "\n"
     ]
    },
    {
     "name": "stdout",
     "output_type": "stream",
     "text": [
      "-0.2187991440296173\n"
     ]
    },
    {
     "name": "stderr",
     "output_type": "stream",
     "text": [
      "Variable containing:\n",
      " 1314.3688\n",
      "  660.8918\n",
      "  269.5633\n",
      "   92.5151\n",
      "[torch.cuda.FloatTensor of size 4 (GPU 0)]\n",
      "\n"
     ]
    },
    {
     "name": "stdout",
     "output_type": "stream",
     "text": [
      "-0.2284802943468094\n"
     ]
    },
    {
     "name": "stderr",
     "output_type": "stream",
     "text": [
      "Variable containing:\n",
      " 1325.0002\n",
      "  678.6168\n",
      "  283.8369\n",
      "   99.7141\n",
      "[torch.cuda.FloatTensor of size 4 (GPU 0)]\n",
      "\n"
     ]
    },
    {
     "name": "stdout",
     "output_type": "stream",
     "text": [
      "-0.2378077507019043\n"
     ]
    },
    {
     "name": "stderr",
     "output_type": "stream",
     "text": [
      "Variable containing:\n",
      " 1335.0853\n",
      "  695.3936\n",
      "  297.6461\n",
      "  106.8544\n",
      "[torch.cuda.FloatTensor of size 4 (GPU 0)]\n",
      "\n"
     ]
    },
    {
     "name": "stdout",
     "output_type": "stream",
     "text": [
      "-0.24675920605659485\n"
     ]
    },
    {
     "name": "stderr",
     "output_type": "stream",
     "text": [
      "Variable containing:\n",
      " 1344.5883\n",
      "  711.2482\n",
      "  310.9479\n",
      "  113.8923\n",
      "[torch.cuda.FloatTensor of size 4 (GPU 0)]\n",
      "\n"
     ]
    },
    {
     "name": "stdout",
     "output_type": "stream",
     "text": [
      "-0.2553181052207947\n"
     ]
    },
    {
     "name": "stderr",
     "output_type": "stream",
     "text": [
      "Variable containing:\n",
      " 1353.5046\n",
      "  726.2177\n",
      "  323.7112\n",
      "  120.7814\n",
      "[torch.cuda.FloatTensor of size 4 (GPU 0)]\n",
      "\n"
     ]
    },
    {
     "name": "stdout",
     "output_type": "stream",
     "text": [
      "-0.26347124576568604\n"
     ]
    },
    {
     "name": "stderr",
     "output_type": "stream",
     "text": [
      "Variable containing:\n",
      " 1361.8203\n",
      "  740.3707\n",
      "  335.9320\n",
      "  127.4849\n",
      "[torch.cuda.FloatTensor of size 4 (GPU 0)]\n",
      "\n"
     ]
    },
    {
     "name": "stdout",
     "output_type": "stream",
     "text": [
      "-0.2712186574935913\n"
     ]
    },
    {
     "name": "stderr",
     "output_type": "stream",
     "text": [
      "Variable containing:\n",
      " 1369.5487\n",
      "  753.8141\n",
      "  347.6413\n",
      "  133.9925\n",
      "[torch.cuda.FloatTensor of size 4 (GPU 0)]\n",
      "\n"
     ]
    },
    {
     "name": "stdout",
     "output_type": "stream",
     "text": [
      "-0.2785852551460266\n"
     ]
    },
    {
     "name": "stderr",
     "output_type": "stream",
     "text": [
      "Variable containing:\n",
      " 1376.7776\n",
      "  766.6609\n",
      "  358.8804\n",
      "  140.3160\n",
      "[torch.cuda.FloatTensor of size 4 (GPU 0)]\n",
      "\n"
     ]
    },
    {
     "name": "stdout",
     "output_type": "stream",
     "text": [
      "-0.2856122851371765\n"
     ]
    },
    {
     "name": "stderr",
     "output_type": "stream",
     "text": [
      "Variable containing:\n",
      " 1383.6097\n",
      "  778.9933\n",
      "  369.6812\n",
      "  146.4764\n",
      "[torch.cuda.FloatTensor of size 4 (GPU 0)]\n",
      "\n"
     ]
    },
    {
     "name": "stdout",
     "output_type": "stream",
     "text": [
      "-0.2923396825790405\n"
     ]
    },
    {
     "name": "stderr",
     "output_type": "stream",
     "text": [
      "Variable containing:\n",
      " 1390.0958\n",
      "  790.8486\n",
      "  380.0585\n",
      "  152.4896\n",
      "[torch.cuda.FloatTensor of size 4 (GPU 0)]\n",
      "\n"
     ]
    },
    {
     "name": "stdout",
     "output_type": "stream",
     "text": [
      "-0.29879263043403625\n"
     ]
    },
    {
     "name": "stderr",
     "output_type": "stream",
     "text": [
      "Variable containing:\n",
      " 1396.2512\n",
      "  802.2181\n",
      "  390.0031\n",
      "  158.3516\n",
      "[torch.cuda.FloatTensor of size 4 (GPU 0)]\n",
      "\n"
     ]
    },
    {
     "name": "stdout",
     "output_type": "stream",
     "text": [
      "-0.3049745559692383\n"
     ]
    },
    {
     "name": "stderr",
     "output_type": "stream",
     "text": [
      "Variable containing:\n",
      " 1402.1140\n",
      "  813.0411\n",
      "  399.4706\n",
      "  164.0205\n",
      "[torch.cuda.FloatTensor of size 4 (GPU 0)]\n",
      "\n"
     ]
    },
    {
     "name": "stdout",
     "output_type": "stream",
     "text": [
      "-0.31085968017578125\n"
     ]
    },
    {
     "name": "stderr",
     "output_type": "stream",
     "text": [
      "Variable containing:\n",
      " 1407.7056\n",
      "  823.2317\n",
      "  408.3954\n",
      "  169.4264\n",
      "[torch.cuda.FloatTensor of size 4 (GPU 0)]\n",
      "\n"
     ]
    },
    {
     "name": "stdout",
     "output_type": "stream",
     "text": [
      "-0.316402405500412\n"
     ]
    },
    {
     "name": "stderr",
     "output_type": "stream",
     "text": [
      "Variable containing:\n",
      " 1413.0132\n",
      "  832.7228\n",
      "  416.7220\n",
      "  174.5029\n",
      "[torch.cuda.FloatTensor of size 4 (GPU 0)]\n",
      "\n"
     ]
    },
    {
     "name": "stdout",
     "output_type": "stream",
     "text": [
      "-0.3215615451335907\n"
     ]
    },
    {
     "name": "stderr",
     "output_type": "stream",
     "text": [
      "Variable containing:\n",
      " 1418.0005\n",
      "  841.4993\n",
      "  424.4342\n",
      "  179.2099\n",
      "[torch.cuda.FloatTensor of size 4 (GPU 0)]\n",
      "\n"
     ]
    },
    {
     "name": "stdout",
     "output_type": "stream",
     "text": [
      "-0.3263196647167206\n"
     ]
    },
    {
     "name": "stderr",
     "output_type": "stream",
     "text": [
      "Variable containing:\n",
      " 1422.6256\n",
      "  849.6092\n",
      "  431.5699\n",
      "  183.5397\n",
      "[torch.cuda.FloatTensor of size 4 (GPU 0)]\n",
      "\n"
     ]
    },
    {
     "name": "stdout",
     "output_type": "stream",
     "text": [
      "-0.3306894600391388\n"
     ]
    },
    {
     "name": "stderr",
     "output_type": "stream",
     "text": [
      "Variable containing:\n",
      " 1426.8680\n",
      "  857.1573\n",
      "  438.2111\n",
      "  187.5137\n",
      "[torch.cuda.FloatTensor of size 4 (GPU 0)]\n",
      "\n"
     ]
    },
    {
     "name": "stdout",
     "output_type": "stream",
     "text": [
      "-0.3347111642360687\n"
     ]
    },
    {
     "name": "stderr",
     "output_type": "stream",
     "text": [
      "Variable containing:\n",
      " 1430.7377\n",
      "  864.2787\n",
      "  444.4751\n",
      "  191.1812\n",
      "[torch.cuda.FloatTensor of size 4 (GPU 0)]\n",
      "\n"
     ]
    },
    {
     "name": "stdout",
     "output_type": "stream",
     "text": [
      "-0.33844712376594543\n"
     ]
    },
    {
     "name": "stderr",
     "output_type": "stream",
     "text": [
      "Variable containing:\n",
      " 1434.2773\n",
      "  871.0932\n",
      "  450.4891\n",
      "  194.6099\n",
      "[torch.cuda.FloatTensor of size 4 (GPU 0)]\n",
      "\n"
     ]
    },
    {
     "name": "stdout",
     "output_type": "stream",
     "text": [
      "-0.34196892380714417\n"
     ]
    },
    {
     "name": "stderr",
     "output_type": "stream",
     "text": [
      "Variable containing:\n",
      " 1437.5466\n",
      "  877.6754\n",
      "  456.3507\n",
      "  197.8719\n",
      "[torch.cuda.FloatTensor of size 4 (GPU 0)]\n",
      "\n"
     ]
    },
    {
     "name": "stdout",
     "output_type": "stream",
     "text": [
      "-0.34533950686454773\n"
     ]
    },
    {
     "name": "stderr",
     "output_type": "stream",
     "text": [
      "Variable containing:\n",
      " 1440.5890\n",
      "  884.0432\n",
      "  462.1027\n",
      "  201.0370\n",
      "[torch.cuda.FloatTensor of size 4 (GPU 0)]\n",
      "\n"
     ]
    },
    {
     "name": "stdout",
     "output_type": "stream",
     "text": [
      "-0.348602831363678\n"
     ]
    },
    {
     "name": "stderr",
     "output_type": "stream",
     "text": [
      "Variable containing:\n",
      " 1443.4139\n",
      "  890.1603\n",
      "  467.7504\n",
      "  204.1704\n",
      "[torch.cuda.FloatTensor of size 4 (GPU 0)]\n",
      "\n"
     ]
    },
    {
     "name": "stdout",
     "output_type": "stream",
     "text": [
      "-0.35178589820861816\n"
     ]
    },
    {
     "name": "stderr",
     "output_type": "stream",
     "text": [
      "Variable containing:\n",
      " 1445.9946\n",
      "  895.9706\n",
      "  473.2889\n",
      "  207.3256\n",
      "[torch.cuda.FloatTensor of size 4 (GPU 0)]\n",
      "\n"
     ]
    },
    {
     "name": "stdout",
     "output_type": "stream",
     "text": [
      "-0.35490334033966064\n"
     ]
    },
    {
     "name": "stderr",
     "output_type": "stream",
     "text": [
      "Variable containing:\n",
      " 1448.2987\n",
      "  901.4325\n",
      "  478.7151\n",
      "  210.5320\n",
      "[torch.cuda.FloatTensor of size 4 (GPU 0)]\n",
      "\n"
     ]
    },
    {
     "name": "stdout",
     "output_type": "stream",
     "text": [
      "-0.3579607903957367\n"
     ]
    },
    {
     "name": "stderr",
     "output_type": "stream",
     "text": [
      "Variable containing:\n",
      " 1450.3112\n",
      "  906.5350\n",
      "  484.0340\n",
      "  213.7971\n",
      "[torch.cuda.FloatTensor of size 4 (GPU 0)]\n",
      "\n"
     ]
    },
    {
     "name": "stdout",
     "output_type": "stream",
     "text": [
      "-0.36095958948135376\n"
     ]
    },
    {
     "name": "stderr",
     "output_type": "stream",
     "text": [
      "Variable containing:\n",
      " 1452.0551\n",
      "  911.3057\n",
      "  489.2506\n",
      "  217.1096\n",
      "[torch.cuda.FloatTensor of size 4 (GPU 0)]\n",
      "\n"
     ]
    },
    {
     "name": "stdout",
     "output_type": "stream",
     "text": [
      "-0.3638993501663208\n"
     ]
    },
    {
     "name": "stderr",
     "output_type": "stream",
     "text": [
      "Variable containing:\n",
      " 1453.5953\n",
      "  915.8040\n",
      "  494.3616\n",
      "  220.4473\n",
      "[torch.cuda.FloatTensor of size 4 (GPU 0)]\n",
      "\n"
     ]
    },
    {
     "name": "stdout",
     "output_type": "stream",
     "text": [
      "-0.3667796850204468\n"
     ]
    },
    {
     "name": "stderr",
     "output_type": "stream",
     "text": [
      "Variable containing:\n",
      " 1455.0105\n",
      "  920.1104\n",
      "  499.3580\n",
      "  223.7882\n",
      "[torch.cuda.FloatTensor of size 4 (GPU 0)]\n",
      "\n"
     ]
    },
    {
     "name": "stdout",
     "output_type": "stream",
     "text": [
      "-0.36960265040397644\n"
     ]
    },
    {
     "name": "stderr",
     "output_type": "stream",
     "text": [
      "Variable containing:\n",
      " 1456.3689\n",
      "  924.3104\n",
      "  504.2252\n",
      "  227.1132\n",
      "[torch.cuda.FloatTensor of size 4 (GPU 0)]\n",
      "\n"
     ]
    },
    {
     "name": "stdout",
     "output_type": "stream",
     "text": [
      "-0.37237071990966797\n"
     ]
    },
    {
     "name": "stderr",
     "output_type": "stream",
     "text": [
      "Variable containing:\n",
      " 1457.7083\n",
      "  928.4666\n",
      "  508.9302\n",
      "  230.3914\n",
      "[torch.cuda.FloatTensor of size 4 (GPU 0)]\n",
      "\n"
     ]
    },
    {
     "name": "stdout",
     "output_type": "stream",
     "text": [
      "-0.37507444620132446\n"
     ]
    },
    {
     "name": "stderr",
     "output_type": "stream",
     "text": [
      "Variable containing:\n",
      " 1459.0251\n",
      "  932.6104\n",
      "  513.4265\n",
      "  233.5811\n",
      "[torch.cuda.FloatTensor of size 4 (GPU 0)]\n",
      "\n"
     ]
    },
    {
     "name": "stdout",
     "output_type": "stream",
     "text": [
      "-0.37769222259521484\n"
     ]
    },
    {
     "name": "stderr",
     "output_type": "stream",
     "text": [
      "Variable containing:\n",
      " 1460.2963\n",
      "  936.7446\n",
      "  517.6708\n",
      "  236.6487\n",
      "[torch.cuda.FloatTensor of size 4 (GPU 0)]\n",
      "\n"
     ]
    },
    {
     "name": "stdout",
     "output_type": "stream",
     "text": [
      "-0.3802024722099304\n"
     ]
    },
    {
     "name": "stderr",
     "output_type": "stream",
     "text": [
      "Variable containing:\n",
      " 1461.4990\n",
      "  940.8475\n",
      "  521.6374\n",
      "  239.5822\n",
      "[torch.cuda.FloatTensor of size 4 (GPU 0)]\n",
      "\n"
     ]
    },
    {
     "name": "stdout",
     "output_type": "stream",
     "text": [
      "-0.3825933635234833\n"
     ]
    },
    {
     "name": "stderr",
     "output_type": "stream",
     "text": [
      "Variable containing:\n",
      " 1462.6221\n",
      "  944.8859\n",
      "  525.3270\n",
      "  242.3894\n",
      "[torch.cuda.FloatTensor of size 4 (GPU 0)]\n",
      "\n"
     ]
    },
    {
     "name": "stdout",
     "output_type": "stream",
     "text": [
      "-0.3848652243614197\n"
     ]
    },
    {
     "name": "stderr",
     "output_type": "stream",
     "text": [
      "Variable containing:\n",
      " 1463.6649\n",
      "  948.8243\n",
      "  528.7677\n",
      "  245.0846\n",
      "[torch.cuda.FloatTensor of size 4 (GPU 0)]\n",
      "\n"
     ]
    },
    {
     "name": "stdout",
     "output_type": "stream",
     "text": [
      "-0.3870261609554291\n"
     ]
    },
    {
     "name": "stderr",
     "output_type": "stream",
     "text": [
      "Variable containing:\n",
      " 1464.6390\n",
      "  952.6271\n",
      "  531.9992\n",
      "  247.6746\n",
      "[torch.cuda.FloatTensor of size 4 (GPU 0)]\n",
      "\n"
     ]
    },
    {
     "name": "stdout",
     "output_type": "stream",
     "text": [
      "-0.38908395171165466\n"
     ]
    },
    {
     "name": "stderr",
     "output_type": "stream",
     "text": [
      "Variable containing:\n",
      " 1465.5675\n",
      "  956.2521\n",
      "  535.0514\n",
      "  250.1527\n",
      "[torch.cuda.FloatTensor of size 4 (GPU 0)]\n",
      "\n"
     ]
    },
    {
     "name": "stdout",
     "output_type": "stream",
     "text": [
      "-0.3910394310951233\n"
     ]
    },
    {
     "name": "stderr",
     "output_type": "stream",
     "text": [
      "Variable containing:\n",
      " 1466.4828\n",
      "  959.6552\n",
      "  537.9368\n",
      "  252.5021\n",
      "[torch.cuda.FloatTensor of size 4 (GPU 0)]\n",
      "\n"
     ]
    },
    {
     "name": "stdout",
     "output_type": "stream",
     "text": [
      "-0.392886757850647\n"
     ]
    },
    {
     "name": "stderr",
     "output_type": "stream",
     "text": [
      "Variable containing:\n",
      " 1467.4181\n",
      "  962.8052\n",
      "  540.6588\n",
      "  254.7061\n",
      "[torch.cuda.FloatTensor of size 4 (GPU 0)]\n",
      "\n"
     ]
    },
    {
     "name": "stdout",
     "output_type": "stream",
     "text": [
      "-0.39461982250213623\n"
     ]
    },
    {
     "name": "stderr",
     "output_type": "stream",
     "text": [
      "Variable containing:\n",
      " 1468.4005\n",
      "  965.6998\n",
      "  543.2255\n",
      "  256.7585\n",
      "[torch.cuda.FloatTensor of size 4 (GPU 0)]\n",
      "\n"
     ]
    },
    {
     "name": "stdout",
     "output_type": "stream",
     "text": [
      "-0.3962400257587433\n"
     ]
    },
    {
     "name": "stderr",
     "output_type": "stream",
     "text": [
      "Variable containing:\n",
      " 1469.4441\n",
      "  968.3625\n",
      "  545.6545\n",
      "  258.6681\n",
      "[torch.cuda.FloatTensor of size 4 (GPU 0)]\n",
      "\n"
     ]
    },
    {
     "name": "stdout",
     "output_type": "stream",
     "text": [
      "-0.3977580964565277\n"
     ]
    },
    {
     "name": "stderr",
     "output_type": "stream",
     "text": [
      "Variable containing:\n",
      " 1470.5391\n",
      "  970.8260\n",
      "  547.9673\n",
      "  260.4515\n",
      "[torch.cuda.FloatTensor of size 4 (GPU 0)]\n",
      "\n"
     ]
    },
    {
     "name": "stdout",
     "output_type": "stream",
     "text": [
      "-0.39918747544288635\n"
     ]
    },
    {
     "name": "stderr",
     "output_type": "stream",
     "text": [
      "Variable containing:\n",
      " 1471.6504\n",
      "  973.1157\n",
      "  550.1793\n",
      "  262.1201\n",
      "[torch.cuda.FloatTensor of size 4 (GPU 0)]\n",
      "\n"
     ]
    },
    {
     "name": "stdout",
     "output_type": "stream",
     "text": [
      "-0.40053611993789673\n"
     ]
    },
    {
     "name": "stderr",
     "output_type": "stream",
     "text": [
      "Variable containing:\n",
      " 1472.7279\n",
      "  975.2461\n",
      "  552.3001\n",
      "  263.6743\n",
      "[torch.cuda.FloatTensor of size 4 (GPU 0)]\n",
      "\n"
     ]
    },
    {
     "name": "stdout",
     "output_type": "stream",
     "text": [
      "-0.4018044173717499\n"
     ]
    },
    {
     "name": "stderr",
     "output_type": "stream",
     "text": [
      "Variable containing:\n",
      " 1473.7240\n",
      "  977.2203\n",
      "  554.3314\n",
      "  265.1068\n",
      "[torch.cuda.FloatTensor of size 4 (GPU 0)]\n",
      "\n"
     ]
    },
    {
     "name": "stdout",
     "output_type": "stream",
     "text": [
      "-0.4029873013496399\n"
     ]
    },
    {
     "name": "stderr",
     "output_type": "stream",
     "text": [
      "Variable containing:\n",
      " 1474.6074\n",
      "  979.0273\n",
      "  556.2675\n",
      "  266.4113\n",
      "[torch.cuda.FloatTensor of size 4 (GPU 0)]\n",
      "\n"
     ]
    },
    {
     "name": "stdout",
     "output_type": "stream",
     "text": [
      "-0.40407833456993103\n"
     ]
    },
    {
     "name": "stderr",
     "output_type": "stream",
     "text": [
      "Variable containing:\n",
      " 1475.3699\n",
      "  980.6500\n",
      "  558.0974\n",
      "  267.5925\n",
      "[torch.cuda.FloatTensor of size 4 (GPU 0)]\n",
      "\n"
     ]
    },
    {
     "name": "stdout",
     "output_type": "stream",
     "text": [
      "-0.4050752520561218\n"
     ]
    },
    {
     "name": "stderr",
     "output_type": "stream",
     "text": [
      "Variable containing:\n",
      " 1476.0205\n",
      "  982.0824\n",
      "  559.8127\n",
      "  268.6666\n",
      "[torch.cuda.FloatTensor of size 4 (GPU 0)]\n",
      "\n"
     ]
    },
    {
     "name": "stdout",
     "output_type": "stream",
     "text": [
      "-0.40598297119140625\n"
     ]
    },
    {
     "name": "stderr",
     "output_type": "stream",
     "text": [
      "Variable containing:\n",
      " 1476.5856\n",
      "  983.3409\n",
      "  561.4087\n",
      "  269.6542\n",
      "[torch.cuda.FloatTensor of size 4 (GPU 0)]\n",
      "\n"
     ]
    },
    {
     "name": "stdout",
     "output_type": "stream",
     "text": [
      "-0.40681192278862\n"
     ]
    },
    {
     "name": "stderr",
     "output_type": "stream",
     "text": [
      "Variable containing:\n",
      " 1477.0985\n",
      "  984.4635\n",
      "  562.8858\n",
      "  270.5721\n",
      "[torch.cuda.FloatTensor of size 4 (GPU 0)]\n",
      "\n"
     ]
    },
    {
     "name": "stdout",
     "output_type": "stream",
     "text": [
      "-0.40757495164871216\n"
     ]
    },
    {
     "name": "stderr",
     "output_type": "stream",
     "text": [
      "Variable containing:\n",
      " 1477.5854\n",
      "  985.4941\n",
      "  564.2524\n",
      "  271.4328\n",
      "[torch.cuda.FloatTensor of size 4 (GPU 0)]\n",
      "\n"
     ]
    },
    {
     "name": "stdout",
     "output_type": "stream",
     "text": [
      "-0.4082847237586975\n"
     ]
    },
    {
     "name": "stderr",
     "output_type": "stream",
     "text": [
      "Variable containing:\n",
      " 1478.0634\n",
      "  986.4720\n",
      "  565.5288\n",
      "  272.2496\n",
      "[torch.cuda.FloatTensor of size 4 (GPU 0)]\n",
      "\n"
     ]
    },
    {
     "name": "stdout",
     "output_type": "stream",
     "text": [
      "-0.4089551568031311\n"
     ]
    },
    {
     "name": "stderr",
     "output_type": "stream",
     "text": [
      "Variable containing:\n",
      " 1478.5398\n",
      "  987.4254\n",
      "  566.7442\n",
      "  273.0407\n",
      "[torch.cuda.FloatTensor of size 4 (GPU 0)]\n",
      "\n"
     ]
    },
    {
     "name": "stdout",
     "output_type": "stream",
     "text": [
      "-0.40960195660591125\n"
     ]
    },
    {
     "name": "stderr",
     "output_type": "stream",
     "text": [
      "Variable containing:\n",
      " 1479.0148\n",
      "  988.3729\n",
      "  567.9323\n",
      "  273.8260\n",
      "[torch.cuda.FloatTensor of size 4 (GPU 0)]\n",
      "\n"
     ]
    },
    {
     "name": "stdout",
     "output_type": "stream",
     "text": [
      "-0.41024050116539\n"
     ]
    },
    {
     "name": "stderr",
     "output_type": "stream",
     "text": [
      "Variable containing:\n",
      " 1479.4891\n",
      "  989.3293\n",
      "  569.1218\n",
      "  274.6233\n",
      "[torch.cuda.FloatTensor of size 4 (GPU 0)]\n",
      "\n"
     ]
    },
    {
     "name": "stdout",
     "output_type": "stream",
     "text": [
      "-0.410884290933609\n"
     ]
    },
    {
     "name": "stderr",
     "output_type": "stream",
     "text": [
      "Variable containing:\n",
      " 1479.9696\n",
      "  990.3102\n",
      "  570.3273\n",
      "  275.4444\n",
      "[torch.cuda.FloatTensor of size 4 (GPU 0)]\n",
      "\n"
     ]
    },
    {
     "name": "stdout",
     "output_type": "stream",
     "text": [
      "-0.4115423858165741\n"
     ]
    },
    {
     "name": "stderr",
     "output_type": "stream",
     "text": [
      "Variable containing:\n",
      " 1480.4690\n",
      "  991.3351\n",
      "  571.5474\n",
      "  276.2929\n",
      "[torch.cuda.FloatTensor of size 4 (GPU 0)]\n",
      "\n"
     ]
    },
    {
     "name": "stdout",
     "output_type": "stream",
     "text": [
      "-0.41221868991851807\n"
     ]
    },
    {
     "name": "stderr",
     "output_type": "stream",
     "text": [
      "Variable containing:\n",
      " 1480.9943\n",
      "  992.4208\n",
      "  572.7707\n",
      "  277.1688\n",
      "[torch.cuda.FloatTensor of size 4 (GPU 0)]\n",
      "\n"
     ]
    },
    {
     "name": "stdout",
     "output_type": "stream",
     "text": [
      "-0.4129135012626648\n"
     ]
    },
    {
     "name": "stderr",
     "output_type": "stream",
     "text": [
      "Variable containing:\n",
      " 1481.5331\n",
      "  993.5790\n",
      "  573.9965\n",
      "  278.0798\n",
      "[torch.cuda.FloatTensor of size 4 (GPU 0)]\n",
      "\n"
     ]
    },
    {
     "name": "stdout",
     "output_type": "stream",
     "text": [
      "-0.4136297106742859\n"
     ]
    },
    {
     "name": "stderr",
     "output_type": "stream",
     "text": [
      "Variable containing:\n",
      " 1482.0488\n",
      "  994.8225\n",
      "  575.2518\n",
      "  279.0495\n",
      "[torch.cuda.FloatTensor of size 4 (GPU 0)]\n",
      "\n"
     ]
    },
    {
     "name": "stdout",
     "output_type": "stream",
     "text": [
      "-0.4143797755241394\n"
     ]
    },
    {
     "name": "stderr",
     "output_type": "stream",
     "text": [
      "Variable containing:\n",
      " 1482.4939\n",
      "  996.1660\n",
      "  576.5902\n",
      "  280.1133\n",
      "[torch.cuda.FloatTensor of size 4 (GPU 0)]\n",
      "\n"
     ]
    },
    {
     "name": "stdout",
     "output_type": "stream",
     "text": [
      "-0.4151843786239624\n"
     ]
    },
    {
     "name": "stderr",
     "output_type": "stream",
     "text": [
      "Variable containing:\n",
      " 1482.8309\n",
      "  997.6202\n",
      "  578.0756\n",
      "  281.3052\n",
      "[torch.cuda.FloatTensor of size 4 (GPU 0)]\n",
      "\n"
     ]
    },
    {
     "name": "stdout",
     "output_type": "stream",
     "text": [
      "-0.41606590151786804\n"
     ]
    },
    {
     "name": "stderr",
     "output_type": "stream",
     "text": [
      "Variable containing:\n",
      " 1483.0529\n",
      "  999.1796\n",
      "  579.7595\n",
      "  282.6446\n",
      "[torch.cuda.FloatTensor of size 4 (GPU 0)]\n",
      "\n"
     ]
    },
    {
     "name": "stdout",
     "output_type": "stream",
     "text": [
      "-0.41703930497169495\n"
     ]
    },
    {
     "name": "stderr",
     "output_type": "stream",
     "text": [
      "Variable containing:\n",
      " 1483.1876\n",
      " 1000.8165\n",
      "  581.6635\n",
      "  284.1299\n",
      "[torch.cuda.FloatTensor of size 4 (GPU 0)]\n",
      "\n"
     ]
    },
    {
     "name": "stdout",
     "output_type": "stream",
     "text": [
      "-0.41810640692710876\n"
     ]
    },
    {
     "name": "stderr",
     "output_type": "stream",
     "text": [
      "Variable containing:\n",
      " 1483.2820\n",
      " 1002.4885\n",
      "  583.7681\n",
      "  285.7368\n",
      "[torch.cuda.FloatTensor of size 4 (GPU 0)]\n",
      "\n"
     ]
    },
    {
     "name": "stdout",
     "output_type": "stream",
     "text": [
      "-0.41925323009490967\n"
     ]
    },
    {
     "name": "stderr",
     "output_type": "stream",
     "text": [
      "Variable containing:\n",
      " 1483.3842\n",
      " 1004.1539\n",
      "  586.0167\n",
      "  287.4202\n",
      "[torch.cuda.FloatTensor of size 4 (GPU 0)]\n",
      "\n"
     ]
    },
    {
     "name": "stdout",
     "output_type": "stream",
     "text": [
      "-0.4204517602920532\n"
     ]
    },
    {
     "name": "stderr",
     "output_type": "stream",
     "text": [
      "Variable containing:\n",
      " 1483.5293\n",
      " 1005.7885\n",
      "  588.3340\n",
      "  289.1241\n",
      "[torch.cuda.FloatTensor of size 4 (GPU 0)]\n",
      "\n"
     ]
    },
    {
     "name": "stdout",
     "output_type": "stream",
     "text": [
      "-0.4216678738594055\n"
     ]
    },
    {
     "name": "stderr",
     "output_type": "stream",
     "text": [
      "Variable containing:\n",
      " 1483.7395\n",
      " 1007.3852\n",
      "  590.6525\n",
      "  290.8007\n",
      "[torch.cuda.FloatTensor of size 4 (GPU 0)]\n",
      "\n"
     ]
    },
    {
     "name": "stdout",
     "output_type": "stream",
     "text": [
      "-0.4228728711605072\n"
     ]
    },
    {
     "name": "stderr",
     "output_type": "stream",
     "text": [
      "Variable containing:\n",
      " 1484.0242\n",
      " 1008.9470\n",
      "  592.9297\n",
      "  292.4237\n",
      "[torch.cuda.FloatTensor of size 4 (GPU 0)]\n",
      "\n"
     ]
    },
    {
     "name": "stdout",
     "output_type": "stream",
     "text": [
      "-0.4240509271621704\n"
     ]
    },
    {
     "name": "stderr",
     "output_type": "stream",
     "text": [
      "Variable containing:\n",
      " 1484.3857\n",
      " 1010.4766\n",
      "  595.1482\n",
      "  293.9881\n",
      "[torch.cuda.FloatTensor of size 4 (GPU 0)]\n",
      "\n"
     ]
    },
    {
     "name": "stdout",
     "output_type": "stream",
     "text": [
      "-0.42519766092300415\n"
     ]
    },
    {
     "name": "stderr",
     "output_type": "stream",
     "text": [
      "Variable containing:\n",
      " 1484.8217\n",
      " 1011.9783\n",
      "  597.3027\n",
      "  295.5013\n",
      "[torch.cuda.FloatTensor of size 4 (GPU 0)]\n",
      "\n"
     ]
    },
    {
     "name": "stdout",
     "output_type": "stream",
     "text": [
      "-0.42631539702415466\n"
     ]
    },
    {
     "name": "stderr",
     "output_type": "stream",
     "text": [
      "Variable containing:\n",
      " 1485.3223\n",
      " 1013.4636\n",
      "  599.4012\n",
      "  296.9854\n",
      "[torch.cuda.FloatTensor of size 4 (GPU 0)]\n",
      "\n"
     ]
    },
    {
     "name": "stdout",
     "output_type": "stream",
     "text": [
      "-0.4274141490459442\n"
     ]
    },
    {
     "name": "stderr",
     "output_type": "stream",
     "text": [
      "Variable containing:\n",
      " 1485.8754\n",
      " 1014.9588\n",
      "  601.4739\n",
      "  298.4846\n",
      "[torch.cuda.FloatTensor of size 4 (GPU 0)]\n",
      "\n"
     ]
    },
    {
     "name": "stdout",
     "output_type": "stream",
     "text": [
      "-0.42851722240448\n"
     ]
    },
    {
     "name": "stderr",
     "output_type": "stream",
     "text": [
      "Variable containing:\n",
      " 1486.4702\n",
      " 1016.5054\n",
      "  603.5768\n",
      "  300.0652\n",
      "[torch.cuda.FloatTensor of size 4 (GPU 0)]\n",
      "\n"
     ]
    },
    {
     "name": "stdout",
     "output_type": "stream",
     "text": [
      "-0.42966172099113464\n"
     ]
    },
    {
     "name": "stderr",
     "output_type": "stream",
     "text": [
      "Variable containing:\n",
      " 1487.0996\n",
      " 1018.1442\n",
      "  605.7717\n",
      "  301.7955\n",
      "[torch.cuda.FloatTensor of size 4 (GPU 0)]\n",
      "\n"
     ]
    },
    {
     "name": "stdout",
     "output_type": "stream",
     "text": [
      "-0.4308866560459137\n"
     ]
    },
    {
     "name": "stderr",
     "output_type": "stream",
     "text": [
      "Variable containing:\n",
      " 1487.7545\n",
      " 1019.8943\n",
      "  608.0984\n",
      "  303.7190\n",
      "[torch.cuda.FloatTensor of size 4 (GPU 0)]\n",
      "\n"
     ]
    },
    {
     "name": "stdout",
     "output_type": "stream",
     "text": [
      "-0.43221530318260193\n"
     ]
    },
    {
     "name": "stderr",
     "output_type": "stream",
     "text": [
      "Variable containing:\n",
      " 1488.4116\n",
      " 1021.7383\n",
      "  610.5482\n",
      "  305.8295\n",
      "[torch.cuda.FloatTensor of size 4 (GPU 0)]\n",
      "\n"
     ]
    },
    {
     "name": "stdout",
     "output_type": "stream",
     "text": [
      "-0.4336398243904114\n"
     ]
    },
    {
     "name": "stderr",
     "output_type": "stream",
     "text": [
      "Variable containing:\n",
      " 1489.0361\n",
      " 1023.6223\n",
      "  613.0618\n",
      "  308.0617\n",
      "[torch.cuda.FloatTensor of size 4 (GPU 0)]\n",
      "\n"
     ]
    },
    {
     "name": "stdout",
     "output_type": "stream",
     "text": [
      "-0.43511784076690674\n"
     ]
    },
    {
     "name": "stderr",
     "output_type": "stream",
     "text": [
      "Variable containing:\n",
      " 1489.5844\n",
      " 1025.4757\n",
      "  615.5527\n",
      "  310.3079\n",
      "[torch.cuda.FloatTensor of size 4 (GPU 0)]\n",
      "\n"
     ]
    },
    {
     "name": "stdout",
     "output_type": "stream",
     "text": [
      "-0.43658503890037537\n"
     ]
    },
    {
     "name": "stderr",
     "output_type": "stream",
     "text": [
      "Variable containing:\n",
      " 1490.0181\n",
      " 1027.2380\n",
      "  617.9452\n",
      "  312.4626\n",
      "[torch.cuda.FloatTensor of size 4 (GPU 0)]\n",
      "\n"
     ]
    },
    {
     "name": "stdout",
     "output_type": "stream",
     "text": [
      "-0.4379817843437195\n"
     ]
    },
    {
     "name": "stderr",
     "output_type": "stream",
     "text": [
      "Variable containing:\n",
      " 1490.3115\n",
      " 1028.8765\n",
      "  620.2064\n",
      "  314.4619\n",
      "[torch.cuda.FloatTensor of size 4 (GPU 0)]\n",
      "\n"
     ]
    },
    {
     "name": "stdout",
     "output_type": "stream",
     "text": [
      "-0.43927502632141113\n"
     ]
    },
    {
     "name": "stderr",
     "output_type": "stream",
     "text": [
      "Variable containing:\n",
      " 1490.4565\n",
      " 1030.3833\n",
      "  622.3452\n",
      "  316.2920\n",
      "[torch.cuda.FloatTensor of size 4 (GPU 0)]\n",
      "\n"
     ]
    },
    {
     "name": "stdout",
     "output_type": "stream",
     "text": [
      "-0.44046053290367126\n"
     ]
    },
    {
     "name": "stderr",
     "output_type": "stream",
     "text": [
      "Variable containing:\n",
      " 1490.4603\n",
      " 1031.7639\n",
      "  624.3879\n",
      "  317.9657\n",
      "[torch.cuda.FloatTensor of size 4 (GPU 0)]\n",
      "\n"
     ]
    },
    {
     "name": "stdout",
     "output_type": "stream",
     "text": [
      "-0.44154906272888184\n"
     ]
    },
    {
     "name": "stderr",
     "output_type": "stream",
     "text": [
      "Variable containing:\n",
      " 1490.3448\n",
      " 1033.0229\n",
      "  626.3538\n",
      "  319.4970\n",
      "[torch.cuda.FloatTensor of size 4 (GPU 0)]\n",
      "\n"
     ]
    },
    {
     "name": "stdout",
     "output_type": "stream",
     "text": [
      "-0.44255128502845764\n"
     ]
    },
    {
     "name": "stderr",
     "output_type": "stream",
     "text": [
      "Variable containing:\n",
      " 1490.1365\n",
      " 1034.1665\n",
      "  628.2480\n",
      "  320.8924\n",
      "[torch.cuda.FloatTensor of size 4 (GPU 0)]\n",
      "\n"
     ]
    },
    {
     "name": "stdout",
     "output_type": "stream",
     "text": [
      "-0.44347330927848816\n"
     ]
    },
    {
     "name": "stderr",
     "output_type": "stream",
     "text": [
      "Variable containing:\n",
      " 1489.8571\n",
      " 1035.2118\n",
      "  630.0702\n",
      "  322.1588\n",
      "[torch.cuda.FloatTensor of size 4 (GPU 0)]\n",
      "\n"
     ]
    },
    {
     "name": "stdout",
     "output_type": "stream",
     "text": [
      "-0.4443211555480957\n"
     ]
    },
    {
     "name": "stderr",
     "output_type": "stream",
     "text": [
      "Variable containing:\n",
      " 1489.5242\n",
      " 1036.1906\n",
      "  631.8222\n",
      "  323.3137\n",
      "[torch.cuda.FloatTensor of size 4 (GPU 0)]\n",
      "\n"
     ]
    },
    {
     "name": "stdout",
     "output_type": "stream",
     "text": [
      "-0.4451061487197876\n"
     ]
    },
    {
     "name": "stderr",
     "output_type": "stream",
     "text": [
      "Variable containing:\n",
      " 1489.1594\n",
      " 1037.1405\n",
      "  633.5081\n",
      "  324.3858\n",
      "[torch.cuda.FloatTensor of size 4 (GPU 0)]\n",
      "\n"
     ]
    },
    {
     "name": "stdout",
     "output_type": "stream",
     "text": [
      "-0.4458446800708771\n"
     ]
    },
    {
     "name": "stderr",
     "output_type": "stream",
     "text": [
      "Variable containing:\n",
      " 1488.7927\n",
      " 1038.0928\n",
      "  635.1277\n",
      "  325.4059\n",
      "[torch.cuda.FloatTensor of size 4 (GPU 0)]\n",
      "\n"
     ]
    },
    {
     "name": "stdout",
     "output_type": "stream",
     "text": [
      "-0.4465530216693878\n"
     ]
    },
    {
     "name": "stderr",
     "output_type": "stream",
     "text": [
      "Variable containing:\n",
      " 1488.4595\n",
      " 1039.0654\n",
      "  636.6766\n",
      "  326.3936\n",
      "[torch.cuda.FloatTensor of size 4 (GPU 0)]\n",
      "\n"
     ]
    },
    {
     "name": "stdout",
     "output_type": "stream",
     "text": [
      "-0.447241872549057\n"
     ]
    },
    {
     "name": "stderr",
     "output_type": "stream",
     "text": [
      "Variable containing:\n",
      " 1488.1869\n",
      " 1040.0623\n",
      "  638.1508\n",
      "  327.3542\n",
      "[torch.cuda.FloatTensor of size 4 (GPU 0)]\n",
      "\n"
     ]
    },
    {
     "name": "stdout",
     "output_type": "stream",
     "text": [
      "-0.4479147791862488\n"
     ]
    },
    {
     "name": "stderr",
     "output_type": "stream",
     "text": [
      "Variable containing:\n",
      " 1487.9918\n",
      " 1041.0717\n",
      "  639.5511\n",
      "  328.2886\n",
      "[torch.cuda.FloatTensor of size 4 (GPU 0)]\n",
      "\n"
     ]
    },
    {
     "name": "stdout",
     "output_type": "stream",
     "text": [
      "-0.4485723674297333\n"
     ]
    },
    {
     "name": "stderr",
     "output_type": "stream",
     "text": [
      "Variable containing:\n",
      " 1487.8831\n",
      " 1042.0674\n",
      "  640.8818\n",
      "  329.2008\n",
      "[torch.cuda.FloatTensor of size 4 (GPU 0)]\n",
      "\n"
     ]
    },
    {
     "name": "stdout",
     "output_type": "stream",
     "text": [
      "-0.4492146968841553\n"
     ]
    },
    {
     "name": "stderr",
     "output_type": "stream",
     "text": [
      "Variable containing:\n",
      " 1487.8678\n",
      " 1043.0133\n",
      "  642.1384\n",
      "  330.0950\n",
      "[torch.cuda.FloatTensor of size 4 (GPU 0)]\n",
      "\n"
     ]
    },
    {
     "name": "stdout",
     "output_type": "stream",
     "text": [
      "-0.44983917474746704\n"
     ]
    },
    {
     "name": "stderr",
     "output_type": "stream",
     "text": [
      "Variable containing:\n",
      " 1487.9413\n",
      " 1043.8750\n",
      "  643.3074\n",
      "  330.9677\n",
      "[torch.cuda.FloatTensor of size 4 (GPU 0)]\n",
      "\n"
     ]
    },
    {
     "name": "stdout",
     "output_type": "stream",
     "text": [
      "-0.45043811202049255\n"
     ]
    },
    {
     "name": "stderr",
     "output_type": "stream",
     "text": [
      "Variable containing:\n",
      " 1488.0852\n",
      " 1044.6328\n",
      "  644.3746\n",
      "  331.8100\n",
      "[torch.cuda.FloatTensor of size 4 (GPU 0)]\n",
      "\n"
     ]
    },
    {
     "name": "stdout",
     "output_type": "stream",
     "text": [
      "-0.45100274682044983\n"
     ]
    },
    {
     "name": "stderr",
     "output_type": "stream",
     "text": [
      "Variable containing:\n",
      " 1488.2723\n",
      " 1045.2896\n",
      "  645.3364\n",
      "  332.6196\n",
      "[torch.cuda.FloatTensor of size 4 (GPU 0)]\n",
      "\n"
     ]
    },
    {
     "name": "stdout",
     "output_type": "stream",
     "text": [
      "-0.451529860496521\n",
      "----------TIME----------\n",
      "367.7847464084625\n",
      "---------- FINAL ----------\n",
      "(Variable containing:\n",
      "-0.4511\n",
      "[torch.cuda.FloatTensor of size 1 (GPU 0)]\n",
      ", Variable containing:\n",
      " 0.7441\n",
      " 0.5807\n",
      " 0.4033\n",
      " 0.2376\n",
      "[torch.cuda.FloatTensor of size 4 (GPU 0)]\n",
      ")\n"
     ]
    },
    {
     "name": "stderr",
     "output_type": "stream",
     "text": [
      "Variable containing:\n",
      " 1488.2723\n",
      " 1045.2896\n",
      "  645.3364\n",
      "  332.6196\n",
      "[torch.cuda.FloatTensor of size 4 (GPU 0)]\n",
      "\n"
     ]
    }
   ],
   "source": [
    "opt = torch.optim.Adam([t], lr=0.1)\n",
    "grad_norms = []\n",
    "bleu_lb = []\n",
    "start_time = time.time()\n",
    "for i in range(200):\n",
    "    probs = sm(t)\n",
    "    b = bleu(probs, references_batch, \\\n",
    "        LongTensor([translation_len] * batch_size), references_lengths, smooth=True)\n",
    "    b[0].backward()\n",
    "    bleu_lb.append(b[0].data[0])\n",
    "    opt.step()\n",
    "    print(b[0].data[0])\n",
    "    grad_norms.append(t.grad.data.norm())\n",
    "print('-'*10 + 'TIME' + '-'*10)\n",
    "print(time.time() - start_time)\n",
    "print('-' * 10 + ' FINAL ' + '-'* 10)\n",
    "print(bleu(probs, references_batch, \\\n",
    "    LongTensor([translation_len] * batch_size), references_lengths, smooth=False))"
   ]
  },
  {
   "cell_type": "code",
   "execution_count": 7,
   "metadata": {
    "scrolled": false
   },
   "outputs": [
    {
     "data": {
      "image/png": "[encoded data removed]",
      "text/plain": [
       "<matplotlib.figure.Figure at 0x7fb096d6a5c0>"
      ]
     },
     "metadata": {},
     "output_type": "display_data"
    },
    {
     "data": {
      "image/png": "[encoded data removed]",
      "text/plain": [
       "<matplotlib.figure.Figure at 0x7fb096bb7fd0>"
      ]
     },
     "metadata": {},
     "output_type": "display_data"
    }
   ],
   "source": [
    "plt.plot(bleu_lb)\n",
    "plt.show()\n",
    "plt.figure(figsize=(10, 2))\n",
    "plt.plot(grad_norms)\n",
    "plt.show()"
   ]
  },
  {
   "cell_type": "code",
   "execution_count": 5,
   "metadata": {},
   "outputs": [
    {
     "name": "stdout",
     "output_type": "stream",
     "text": [
      "(slice(None, 200, None), slice(None, 10, None))\n"
     ]
    },
    {
     "data": {
      "text/plain": [
       "(Variable containing:\n",
       " -0.4517\n",
       " [torch.cuda.FloatTensor of size 1 (GPU 0)], [Variable containing:\n",
       "   0.7448\n",
       "  [torch.cuda.FloatTensor of size 1 (GPU 0)], Variable containing:\n",
       "   0.5819\n",
       "  [torch.cuda.FloatTensor of size 1 (GPU 0)], Variable containing:\n",
       "   0.4041\n",
       "  [torch.cuda.FloatTensor of size 1 (GPU 0)], Variable containing:\n",
       "   0.2377\n",
       "  [torch.cuda.FloatTensor of size 1 (GPU 0)]])"
      ]
     },
     "execution_count": 5,
     "metadata": {},
     "output_type": "execute_result"
    }
   ],
   "source": [
    "R = Variable(FloatTensor(onehot_initialization(\\\n",
    "                            np.array(references_batch), vocab_size).tolist()))\n",
    "mbl = mBLEU()\n",
    "mbl(R, probs, references_lengths, LongTensor([translation_len] * batch_size))"
   ]
  }
 ],
 "metadata": {
  "kernelspec": {
   "display_name": "torch",
   "language": "python",
   "name": "torch"
  },
  "language_info": {
   "codemirror_mode": {
    "name": "ipython",
    "version": 3
   },
   "file_extension": ".py",
   "mimetype": "text/x-python",
   "name": "python",
   "nbconvert_exporter": "python",
   "pygments_lexer": "ipython3",
   "version": "3.6.3"
  }
 },
 "nbformat": 4,
 "nbformat_minor": 2
}
