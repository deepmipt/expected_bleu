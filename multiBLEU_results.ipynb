{
 "cells": [
  {
   "cell_type": "code",
   "execution_count": 1,
   "metadata": {},
   "outputs": [],
   "source": [
    "from modules import expectedMultiBleu\n",
    "import numpy as np\n",
    "import torch\n",
    "from torch.cuda import LongTensor, FloatTensor\n",
    "from torch.autograd import Variable\n",
    "from torch.nn import Module, functional as F\n",
    "from modules.expectedBLEU import bleu as ebleu\n",
    "from modules.expectedMultiBleu import bleu, calculate_overlap\n",
    "from modules.matrixBLEU import mBLEU\n",
    "from matplotlib import pyplot as plt\n",
    "from modules.utils import CUDA_wrapper\n",
    "import time\n",
    "plt.style.use('ggplot')\n",
    "%matplotlib inline"
   ]
  },
  {
   "cell_type": "code",
   "execution_count": 2,
   "metadata": {},
   "outputs": [],
   "source": [
    "def generate_batch_references(references_lengths, vocab_size):\n",
    "    def _gen_padded_ref(l):\n",
    "        ref = np.random.choice(vocab_size, size=l, replace=True)\n",
    "        padding = np.array([0] * (max_len - l), dtype=int)\n",
    "        return np.concatenate((ref, padding)).tolist()\n",
    "    max_len = np.max(references_lengths)\n",
    "    res = [_gen_padded_ref(l)\\\n",
    "           for l in references_lengths]\n",
    "    # res = np.stack(res)\n",
    "    return res\n",
    "\n",
    "def _all_idx(idx, axis):\n",
    "    print(tuple(map(slice, idx.shape)))\n",
    "    grid = np.ogrid[tuple(map(slice, idx.shape))]\n",
    "    grid.insert(axis, idx)\n",
    "    return tuple(grid)\n",
    "\n",
    "def onehot_initialization(a, vocab_size):\n",
    "    ncols = vocab_size\n",
    "    out = np.zeros(a.shape + (ncols,), dtype=int)\n",
    "    out[_all_idx(a, axis=2)] = 1\n",
    "    return out\n",
    "\n",
    "class MySoftmax(Module):\n",
    "\n",
    "    def forward(self, input_):\n",
    "        batch_size = input_.size()[0]\n",
    "        output_ = torch.stack([F.softmax(input_[i]) for i in range(batch_size)], 0)\n",
    "        return output_"
   ]
  },
  {
   "cell_type": "code",
   "execution_count": 3,
   "metadata": {},
   "outputs": [],
   "source": [
    "sm = MySoftmax()\n",
    "np.random.seed(3)\n",
    "torch.manual_seed(2)\n",
    "low_len = 8\n",
    "hight_len = 10\n",
    "batch_size = 200\n",
    "translation_len = 10\n",
    "vocab_size = 20000\n",
    "references_lengths = np.random.randint(low=low_len,\\\n",
    "                                high=hight_len + 1, size=batch_size)\n",
    "t = Variable(CUDA_wrapper(\\\n",
    "            torch.randn((batch_size, translation_len, vocab_size))),\\\n",
    "    requires_grad=True)\n",
    "references_batch = generate_batch_references(references_lengths, vocab_size)"
   ]
  },
  {
   "cell_type": "code",
   "execution_count": null,
   "metadata": {},
   "outputs": [],
   "source": [
    "opt = torch.optim.Adam([t], lr=0.1)\n",
    "grad_norms = []\n",
    "bleu_lb = []\n",
    "start_time = time.time()\n",
    "for i in range(200):\n",
    "    probs = sm(t)\n",
    "    b = bleu(probs, references_batch, \\\n",
    "        LongTensor([translation_len] * batch_size), references_lengths, smooth=True)\n",
    "    b[0].backward()\n",
    "    bleu_lb.append(b[0].data[0])\n",
    "    opt.step()\n",
    "    print(b[0].data[0])\n",
    "    grad_norms.append(t.grad.data.norm())\n",
    "print('-'*10 + 'TIME' + '-'*10)\n",
    "print(time.time() - start_time)\n",
    "print('-' * 10 + ' FINAL ' + '-'* 10)\n",
    "print(bleu(probs, references_batch, \\\n",
    "    LongTensor([translation_len] * batch_size), references_lengths, smooth=False))"
   ]
  },
  {
   "cell_type": "code",
   "execution_count": 7,
   "metadata": {
    "scrolled": false
   },
   "outputs": [
    {
     "data": {
      "image/png": "[encoded data removed]",
      "text/plain": [
       "<matplotlib.figure.Figure at 0x7fb096d6a5c0>"
      ]
     },
     "metadata": {},
     "output_type": "display_data"
    },
    {
     "data": {
      "image/png": "[encoded data removed]",
      "text/plain": [
       "<matplotlib.figure.Figure at 0x7fb096bb7fd0>"
      ]
     },
     "metadata": {},
     "output_type": "display_data"
    }
   ],
   "source": [
    "plt.plot(bleu_lb)\n",
    "plt.show()\n",
    "plt.figure(figsize=(10, 2))\n",
    "plt.plot(grad_norms)\n",
    "plt.show()"
   ]
  },
  {
   "cell_type": "code",
   "execution_count": 5,
   "metadata": {
    "scrolled": true
   },
   "outputs": [
    {
     "name": "stdout",
     "output_type": "stream",
     "text": [
      "(slice(None, 200, None), slice(None, 10, None))\n"
     ]
    },
    {
     "data": {
      "text/plain": [
       "(Variable containing:\n",
       " -0.4517\n",
       " [torch.cuda.FloatTensor of size 1 (GPU 0)], [Variable containing:\n",
       "   0.7448\n",
       "  [torch.cuda.FloatTensor of size 1 (GPU 0)], Variable containing:\n",
       "   0.5819\n",
       "  [torch.cuda.FloatTensor of size 1 (GPU 0)], Variable containing:\n",
       "   0.4041\n",
       "  [torch.cuda.FloatTensor of size 1 (GPU 0)], Variable containing:\n",
       "   0.2377\n",
       "  [torch.cuda.FloatTensor of size 1 (GPU 0)]])"
      ]
     },
     "execution_count": 5,
     "metadata": {},
     "output_type": "execute_result"
    }
   ],
   "source": [
    "R = Variable(FloatTensor(onehot_initialization(\\\n",
    "                            np.array(references_batch), vocab_size).tolist()))\n",
    "mbl = mBLEU()\n",
    "mbl(R, probs, references_lengths, LongTensor([translation_len] * batch_size))"
   ]
  }
 ],
 "metadata": {
  "kernelspec": {
   "display_name": "torch",
   "language": "python",
   "name": "torch"
  },
  "language_info": {
   "codemirror_mode": {
    "name": "ipython",
    "version": 3
   },
   "file_extension": ".py",
   "mimetype": "text/x-python",
   "name": "python",
   "nbconvert_exporter": "python",
   "pygments_lexer": "ipython3",
   "version": "3.6.3"
  }
 },
 "nbformat": 4,
 "nbformat_minor": 2
}
